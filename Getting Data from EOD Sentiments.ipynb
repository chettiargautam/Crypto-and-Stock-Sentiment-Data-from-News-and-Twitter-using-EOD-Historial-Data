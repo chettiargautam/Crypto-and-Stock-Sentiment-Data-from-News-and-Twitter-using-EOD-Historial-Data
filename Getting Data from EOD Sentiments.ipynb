{
 "cells": [
  {
   "cell_type": "markdown",
   "id": "8eb2c378",
   "metadata": {},
   "source": [
    "## Exploration of sentiments and historical data analysis of 4 top cryptocurrencies"
   ]
  },
  {
   "cell_type": "code",
   "execution_count": 4,
   "id": "cc21c80f",
   "metadata": {},
   "outputs": [],
   "source": [
    "# Pull API: Limited Requests\n",
    "# https://eodhistoricaldata.com/api/sentiments?s=btc-usd.cc,aapl&from=2022-01-01&to=2022-05-22&api_token=your_token_here\n",
    "# https://eodhistoricaldata.com/api/tweets-sentiments?s=tsla,aapl&from=2022-01-01&to=2022-04-22&api_token=your_token_here"
   ]
  },
  {
   "cell_type": "code",
   "execution_count": 2,
   "id": "42eeb55d",
   "metadata": {},
   "outputs": [],
   "source": [
    "# Cryptos we will explore\n",
    "# BitCoin\n",
    "# Ehterium\n",
    "# Cardano\n",
    "# Shiba Inu\n",
    "# BNB\n",
    "# All data from the beginning of 2021 because shiba inu just came out on november 2020"
   ]
  },
  {
   "cell_type": "code",
   "execution_count": 3,
   "id": "5711f070",
   "metadata": {},
   "outputs": [
    {
     "name": "stdout",
     "output_type": "stream",
     "text": [
      "{'ETH-USD.CC': [{'date': '2022-09-01', 'count': 27, 'normalized': 0.1255}, {'date': '2022-08-31', 'count': 9, 'normalized': -0.0802}, {'date': '2022-08-30', 'count': 29, 'normalized': 0.1659}, {'date': '2022-08-29', 'count': 24, 'normalized': 0.1153}, {'date': '2022-08-28', 'count': 5, 'normalized': 0.0642}, {'date': '2022-08-26', 'count': 33, 'normalized': 0.2526}, {'date': '2022-08-25', 'count': 18, 'normalized': 0.3804}, {'date': '2022-08-24', 'count': 28, 'normalized': 0.274}, {'date': '2022-08-23', 'count': 31, 'normalized': 0.237}, {'date': '2022-08-22', 'count': 31, 'normalized': -0.0415}, {'date': '2022-08-21', 'count': 5, 'normalized': -0.0632}, {'date': '2022-08-20', 'count': 4, 'normalized': -0.1703}, {'date': '2022-08-19', 'count': 39, 'normalized': 0.1215}, {'date': '2022-08-18', 'count': 39, 'normalized': 0.0833}, {'date': '2022-08-17', 'count': 27, 'normalized': 0.2093}, {'date': '2022-08-16', 'count': 12, 'normalized': 0.0727}, {'date': '2022-08-15', 'count': 26, 'normalized': 0.444}, {'date': '2022-08-14', 'count': 3, 'normalized': -0.084}, {'date': '2022-08-13', 'count': 14, 'normalized': 0.1904}, {'date': '2022-08-12', 'count': 31, 'normalized': 0.2491}, {'date': '2022-08-11', 'count': 31, 'normalized': 0.2323}, {'date': '2022-08-10', 'count': 13, 'normalized': 0.3831}, {'date': '2022-08-09', 'count': 38, 'normalized': 0.1828}, {'date': '2022-08-08', 'count': 34, 'normalized': 0.3345}, {'date': '2022-08-07', 'count': 7, 'normalized': 0.2709}, {'date': '2022-08-06', 'count': 7, 'normalized': 0.0366}, {'date': '2022-08-05', 'count': 32, 'normalized': 0.3479}, {'date': '2022-08-04', 'count': 30, 'normalized': 0.3316}, {'date': '2022-08-03', 'count': 29, 'normalized': -0.0144}, {'date': '2022-08-02', 'count': 34, 'normalized': 0.2946}, {'date': '2022-08-01', 'count': 32, 'normalized': 0.1367}, {'date': '2022-07-31', 'count': 13, 'normalized': 0.0467}, {'date': '2022-07-30', 'count': 2, 'normalized': 0.454}, {'date': '2022-07-29', 'count': 35, 'normalized': 0.3497}, {'date': '2022-07-28', 'count': 33, 'normalized': 0.078}, {'date': '2022-07-27', 'count': 43, 'normalized': 0.1569}, {'date': '2022-07-26', 'count': 36, 'normalized': 0.2686}, {'date': '2022-07-25', 'count': 19, 'normalized': -0.0254}, {'date': '2022-07-22', 'count': 36, 'normalized': 0.4356}, {'date': '2022-07-21', 'count': 28, 'normalized': 0.2993}, {'date': '2022-07-20', 'count': 26, 'normalized': 0.3006}, {'date': '2022-07-19', 'count': 42, 'normalized': 0.3755}, {'date': '2022-07-18', 'count': 48, 'normalized': 0.3999}, {'date': '2022-07-17', 'count': 3, 'normalized': 0.423}, {'date': '2022-07-16', 'count': 3, 'normalized': 0.448}, {'date': '2022-07-15', 'count': 28, 'normalized': 0.1599}, {'date': '2022-07-14', 'count': 3, 'normalized': 0.2653}, {'date': '2022-07-13', 'count': 38, 'normalized': 0.1087}, {'date': '2022-07-12', 'count': 32, 'normalized': 0.2108}, {'date': '2022-07-11', 'count': 13, 'normalized': 0.1446}, {'date': '2022-07-09', 'count': 9, 'normalized': 0.2967}, {'date': '2022-07-08', 'count': 27, 'normalized': 0.25}, {'date': '2022-07-07', 'count': 27, 'normalized': 0.2222}, {'date': '2022-07-06', 'count': 38, 'normalized': 0.2022}, {'date': '2022-07-05', 'count': 28, 'normalized': -0.0442}, {'date': '2022-07-04', 'count': 3, 'normalized': -0.139}, {'date': '2022-07-03', 'count': 2, 'normalized': -0.2565}, {'date': '2022-07-02', 'count': 9, 'normalized': 0.0644}, {'date': '2022-07-01', 'count': 32, 'normalized': 0.0318}, {'date': '2022-06-30', 'count': 31, 'normalized': 0.3151}, {'date': '2022-06-29', 'count': 41, 'normalized': 0.1971}, {'date': '2022-06-28', 'count': 20, 'normalized': 0.1478}, {'date': '2022-06-27', 'count': 35, 'normalized': 0.3218}, {'date': '2022-06-26', 'count': 2, 'normalized': 0.29}, {'date': '2022-06-25', 'count': 9, 'normalized': 0.4049}, {'date': '2022-06-24', 'count': 44, 'normalized': 0.1624}, {'date': '2022-06-23', 'count': 26, 'normalized': 0.203}, {'date': '2022-06-22', 'count': 21, 'normalized': 0.127}, {'date': '2022-06-21', 'count': 25, 'normalized': 0.1571}, {'date': '2022-06-20', 'count': 25, 'normalized': 0.1962}, {'date': '2022-06-19', 'count': 2, 'normalized': -0.142}, {'date': '2022-06-18', 'count': 13, 'normalized': -0.0115}, {'date': '2022-06-17', 'count': 29, 'normalized': -0.0121}, {'date': '2022-06-16', 'count': 30, 'normalized': 0.2142}, {'date': '2022-06-15', 'count': 25, 'normalized': -0.0055}, {'date': '2022-06-14', 'count': 12, 'normalized': 0.0066}, {'date': '2022-06-13', 'count': 22, 'normalized': 0.008}, {'date': '2022-06-12', 'count': 5, 'normalized': -0.152}, {'date': '2022-06-11', 'count': 12, 'normalized': -0.2886}, {'date': '2022-06-10', 'count': 35, 'normalized': 0.2891}, {'date': '2022-06-09', 'count': 12, 'normalized': 0.2136}, {'date': '2022-06-08', 'count': 14, 'normalized': 0.391}, {'date': '2022-06-07', 'count': 6, 'normalized': -0.176}, {'date': '2022-06-06', 'count': 7, 'normalized': 0.0249}, {'date': '2022-06-05', 'count': 2, 'normalized': 0}, {'date': '2022-06-04', 'count': 2, 'normalized': 0.321}, {'date': '2022-06-03', 'count': 18, 'normalized': 0.0173}, {'date': '2022-06-02', 'count': 26, 'normalized': 0.0257}, {'date': '2022-06-01', 'count': 20, 'normalized': 0.2863}, {'date': '2022-05-31', 'count': 23, 'normalized': 0.4465}, {'date': '2022-05-30', 'count': 15, 'normalized': 0.2323}, {'date': '2022-05-28', 'count': 4, 'normalized': -0.0903}, {'date': '2022-05-27', 'count': 11, 'normalized': -0.0392}, {'date': '2022-05-26', 'count': 16, 'normalized': 0.0653}, {'date': '2022-05-25', 'count': 25, 'normalized': 0.0757}, {'date': '2022-05-24', 'count': 11, 'normalized': 0.2797}, {'date': '2022-05-23', 'count': 23, 'normalized': 0.3257}, {'date': '2022-05-22', 'count': 3, 'normalized': 0.0177}, {'date': '2022-05-21', 'count': 3, 'normalized': 0.0887}, {'date': '2022-05-20', 'count': 27, 'normalized': 0.1338}, {'date': '2022-05-19', 'count': 21, 'normalized': 0.0626}, {'date': '2022-05-18', 'count': 28, 'normalized': 0.2425}, {'date': '2022-05-17', 'count': 13, 'normalized': 0.2102}, {'date': '2022-05-16', 'count': 22, 'normalized': 0.09}, {'date': '2022-05-13', 'count': 18, 'normalized': -0.1647}, {'date': '2022-05-12', 'count': 14, 'normalized': -0.0843}, {'date': '2022-05-11', 'count': 29, 'normalized': 0.2586}, {'date': '2022-05-10', 'count': 33, 'normalized': 0.3501}, {'date': '2022-05-09', 'count': 13, 'normalized': 0.1061}, {'date': '2022-05-08', 'count': 11, 'normalized': 0.2256}, {'date': '2022-05-06', 'count': 28, 'normalized': 0.2589}, {'date': '2022-05-05', 'count': 29, 'normalized': 0.4314}, {'date': '2022-05-04', 'count': 19, 'normalized': 0.1048}, {'date': '2022-05-03', 'count': 20, 'normalized': 0.2861}, {'date': '2022-05-02', 'count': 21, 'normalized': 0.3101}, {'date': '2022-05-01', 'count': 2, 'normalized': 0.362}, {'date': '2022-04-30', 'count': 5, 'normalized': -0.1296}, {'date': '2022-04-29', 'count': 24, 'normalized': 0.244}, {'date': '2022-04-28', 'count': 9, 'normalized': 0.4231}, {'date': '2022-04-27', 'count': 22, 'normalized': 0.3548}, {'date': '2022-04-26', 'count': 18, 'normalized': 0.4222}, {'date': '2022-04-25', 'count': 33, 'normalized': 0.3546}, {'date': '2022-04-24', 'count': 2, 'normalized': 0}, {'date': '2022-04-23', 'count': 6, 'normalized': 0.0795}, {'date': '2022-04-22', 'count': 34, 'normalized': 0.2479}, {'date': '2022-04-21', 'count': 34, 'normalized': 0.4975}, {'date': '2022-04-20', 'count': 33, 'normalized': 0.3331}, {'date': '2022-04-19', 'count': 22, 'normalized': 0.3365}, {'date': '2022-04-18', 'count': 29, 'normalized': 0.371}, {'date': '2022-04-17', 'count': 7, 'normalized': -0.1754}, {'date': '2022-04-16', 'count': 5, 'normalized': 0.4888}, {'date': '2022-04-15', 'count': 16, 'normalized': 0.4939}, {'date': '2022-04-14', 'count': 34, 'normalized': 0.2811}, {'date': '2022-04-13', 'count': 34, 'normalized': 0.452}, {'date': '2022-04-12', 'count': 36, 'normalized': 0.2487}, {'date': '2022-04-11', 'count': 32, 'normalized': 0.1947}, {'date': '2022-04-10', 'count': 2, 'normalized': 0.523}, {'date': '2022-04-09', 'count': 10, 'normalized': 0.4617}, {'date': '2022-04-08', 'count': 33, 'normalized': 0.1702}, {'date': '2022-04-07', 'count': 31, 'normalized': 0.3889}, {'date': '2022-04-06', 'count': 37, 'normalized': 0.2404}, {'date': '2022-04-05', 'count': 31, 'normalized': 0.417}, {'date': '2022-04-04', 'count': 39, 'normalized': 0.2816}, {'date': '2022-04-03', 'count': 5, 'normalized': -0.0244}, {'date': '2022-04-02', 'count': 14, 'normalized': 0.2688}, {'date': '2022-04-01', 'count': 33, 'normalized': 0.3364}, {'date': '2022-03-31', 'count': 30, 'normalized': 0.4581}, {'date': '2022-03-30', 'count': 20, 'normalized': 0.2079}, {'date': '2022-03-29', 'count': 41, 'normalized': 0.3703}, {'date': '2022-03-28', 'count': 23, 'normalized': 0.2951}, {'date': '2022-03-27', 'count': 11, 'normalized': 0.5425}, {'date': '2022-03-26', 'count': 7, 'normalized': 0.086}, {'date': '2022-03-25', 'count': 30, 'normalized': 0.4027}, {'date': '2022-03-24', 'count': 33, 'normalized': 0.5132}, {'date': '2022-03-23', 'count': 21, 'normalized': 0.3176}, {'date': '2022-03-22', 'count': 34, 'normalized': 0.3269}, {'date': '2022-03-21', 'count': 15, 'normalized': 0.2853}, {'date': '2022-03-20', 'count': 11, 'normalized': 0.4514}, {'date': '2022-03-19', 'count': 10, 'normalized': 0.3833}, {'date': '2022-03-18', 'count': 38, 'normalized': 0.4397}, {'date': '2022-03-17', 'count': 37, 'normalized': 0.4067}, {'date': '2022-03-16', 'count': 37, 'normalized': 0.3374}, {'date': '2022-03-15', 'count': 21, 'normalized': 0.1048}, {'date': '2022-03-14', 'count': 24, 'normalized': 0.3675}, {'date': '2022-03-13', 'count': 2, 'normalized': 0.1275}, {'date': '2022-03-12', 'count': 8, 'normalized': -0.045}, {'date': '2022-03-11', 'count': 36, 'normalized': 0.4243}, {'date': '2022-03-10', 'count': 25, 'normalized': 0.2751}, {'date': '2022-03-09', 'count': 24, 'normalized': 0.4353}, {'date': '2022-03-08', 'count': 34, 'normalized': 0.3895}, {'date': '2022-03-07', 'count': 39, 'normalized': 0.0826}, {'date': '2022-03-06', 'count': 4, 'normalized': -0.2343}, {'date': '2022-03-05', 'count': 7, 'normalized': 0.562}, {'date': '2022-03-04', 'count': 43, 'normalized': 0.3098}, {'date': '2022-03-03', 'count': 15, 'normalized': 0.1383}, {'date': '2022-03-02', 'count': 32, 'normalized': 0.3217}, {'date': '2022-03-01', 'count': 15, 'normalized': -0.1389}, {'date': '2022-02-28', 'count': 23, 'normalized': 0.157}, {'date': '2022-02-27', 'count': 2, 'normalized': 0.1835}, {'date': '2022-02-26', 'count': 7, 'normalized': -0.1141}, {'date': '2022-02-25', 'count': 30, 'normalized': -0.0348}, {'date': '2022-02-24', 'count': 16, 'normalized': 0.1313}, {'date': '2022-02-23', 'count': 14, 'normalized': 0.2481}, {'date': '2022-02-22', 'count': 29, 'normalized': 0.4641}, {'date': '2022-02-21', 'count': 8, 'normalized': -0.0445}, {'date': '2022-02-20', 'count': 2, 'normalized': -0.178}, {'date': '2022-02-19', 'count': 3, 'normalized': -0.762}, {'date': '2022-02-18', 'count': 24, 'normalized': 0.5376}, {'date': '2022-02-17', 'count': 8, 'normalized': 0.3319}, {'date': '2022-02-16', 'count': 35, 'normalized': 0.4528}, {'date': '2022-02-15', 'count': 14, 'normalized': 0.3311}, {'date': '2022-02-14', 'count': 20, 'normalized': 0.4294}, {'date': '2022-02-13', 'count': 2, 'normalized': 0.249}, {'date': '2022-02-12', 'count': 1, 'normalized': -0.95}, {'date': '2022-02-11', 'count': 23, 'normalized': 0.3337}, {'date': '2022-02-10', 'count': 9, 'normalized': 0.6946}, {'date': '2022-02-09', 'count': 15, 'normalized': 0.4991}, {'date': '2022-02-08', 'count': 28, 'normalized': 0.5504}, {'date': '2022-02-07', 'count': 13, 'normalized': 0.2141}, {'date': '2022-02-06', 'count': 3, 'normalized': 0.3567}, {'date': '2022-02-05', 'count': 2, 'normalized': 0.781}, {'date': '2022-02-04', 'count': 31, 'normalized': 0.6096}, {'date': '2022-02-03', 'count': 17, 'normalized': 0.4453}, {'date': '2022-02-02', 'count': 18, 'normalized': 0.6973}, {'date': '2022-02-01', 'count': 1, 'normalized': 0.995}, {'date': '2022-01-31', 'count': 17, 'normalized': 0.4131}, {'date': '2022-01-30', 'count': 1, 'normalized': 0.155}, {'date': '2022-01-28', 'count': 19, 'normalized': 0.5339}, {'date': '2022-01-27', 'count': 11, 'normalized': 0.6758}, {'date': '2022-01-26', 'count': 19, 'normalized': 0.678}, {'date': '2022-01-25', 'count': 15, 'normalized': 0.2761}, {'date': '2022-01-23', 'count': 3, 'normalized': 0.977}, {'date': '2022-01-22', 'count': 5, 'normalized': 0.42}, {'date': '2022-01-21', 'count': 8, 'normalized': 0.4868}, {'date': '2022-01-20', 'count': 15, 'normalized': 0.6175}, {'date': '2022-01-18', 'count': 14, 'normalized': 0.8598}, {'date': '2022-01-15', 'count': 3, 'normalized': 0.9613}, {'date': '2022-01-14', 'count': 16, 'normalized': 0.3692}, {'date': '2022-01-13', 'count': 22, 'normalized': 0.2603}, {'date': '2022-01-12', 'count': 8, 'normalized': 0.7746}, {'date': '2022-01-11', 'count': 18, 'normalized': 0.9622}, {'date': '2022-01-08', 'count': 3, 'normalized': 0.671}, {'date': '2022-01-07', 'count': 18, 'normalized': 0.4204}, {'date': '2022-01-06', 'count': 8, 'normalized': 0.4815}, {'date': '2022-01-05', 'count': 2, 'normalized': 0.4875}, {'date': '2022-01-04', 'count': 34, 'normalized': 0.3825}, {'date': '2022-01-03', 'count': 24, 'normalized': 0.7885}, {'date': '2022-01-02', 'count': 2, 'normalized': 0.8935}, {'date': '2022-01-01', 'count': 3, 'normalized': 0.856}, {'date': '2021-12-31', 'count': 20, 'normalized': 0.5815}, {'date': '2021-12-30', 'count': 34, 'normalized': 0.3784}, {'date': '2021-12-29', 'count': 29, 'normalized': 0.5489}, {'date': '2021-12-28', 'count': 23, 'normalized': 0.4496}, {'date': '2021-12-27', 'count': 24, 'normalized': 0.4365}, {'date': '2021-12-26', 'count': 5, 'normalized': 0.231}, {'date': '2021-12-25', 'count': 3, 'normalized': 0.9497}, {'date': '2021-12-24', 'count': 16, 'normalized': 0.6806}, {'date': '2021-12-23', 'count': 32, 'normalized': 0.6172}, {'date': '2021-12-22', 'count': 37, 'normalized': 0.6593}, {'date': '2021-12-21', 'count': 31, 'normalized': 0.654}, {'date': '2021-12-20', 'count': 32, 'normalized': 0.5775}, {'date': '2021-12-19', 'count': 6, 'normalized': 0.6228}, {'date': '2021-12-18', 'count': 22, 'normalized': 0.3243}, {'date': '2021-12-17', 'count': 58, 'normalized': 0.4523}, {'date': '2021-12-16', 'count': 59, 'normalized': 0.4647}, {'date': '2021-12-15', 'count': 64, 'normalized': 0.4263}, {'date': '2021-12-14', 'count': 61, 'normalized': 0.4854}, {'date': '2021-12-13', 'count': 38, 'normalized': 0.5786}, {'date': '2021-12-12', 'count': 12, 'normalized': 0.6}, {'date': '2021-12-11', 'count': 17, 'normalized': 0.4078}, {'date': '2021-12-10', 'count': 49, 'normalized': 0.5568}, {'date': '2021-12-09', 'count': 67, 'normalized': 0.56}, {'date': '2021-12-08', 'count': 53, 'normalized': 0.5806}, {'date': '2021-12-07', 'count': 53, 'normalized': 0.5022}, {'date': '2021-12-06', 'count': 47, 'normalized': 0.529}, {'date': '2021-12-05', 'count': 12, 'normalized': 0.4423}, {'date': '2021-12-04', 'count': 15, 'normalized': 0.3195}, {'date': '2021-12-03', 'count': 59, 'normalized': 0.6055}, {'date': '2021-12-02', 'count': 45, 'normalized': 0.287}, {'date': '2021-12-01', 'count': 54, 'normalized': 0.6367}, {'date': '2021-11-30', 'count': 57, 'normalized': 0.4807}, {'date': '2021-11-29', 'count': 48, 'normalized': 0.6398}, {'date': '2021-11-28', 'count': 18, 'normalized': 0.2522}, {'date': '2021-11-27', 'count': 7, 'normalized': 0.4854}, {'date': '2021-11-26', 'count': 39, 'normalized': 0.1761}, {'date': '2021-11-25', 'count': 46, 'normalized': 0.5685}, {'date': '2021-11-24', 'count': 56, 'normalized': 0.6629}, {'date': '2021-11-23', 'count': 52, 'normalized': 0.4576}, {'date': '2021-11-22', 'count': 55, 'normalized': 0.4936}, {'date': '2021-11-21', 'count': 9, 'normalized': 0.2916}, {'date': '2021-11-20', 'count': 11, 'normalized': 0.5121}, {'date': '2021-11-19', 'count': 58, 'normalized': 0.3713}, {'date': '2021-11-18', 'count': 57, 'normalized': 0.5089}, {'date': '2021-11-17', 'count': 58, 'normalized': 0.4663}, {'date': '2021-11-16', 'count': 49, 'normalized': 0.6119}, {'date': '2021-11-15', 'count': 50, 'normalized': 0.5252}, {'date': '2021-11-14', 'count': 11, 'normalized': 0.4332}, {'date': '2021-11-13', 'count': 13, 'normalized': 0.6128}, {'date': '2021-11-12', 'count': 59, 'normalized': 0.4579}, {'date': '2021-11-11', 'count': 59, 'normalized': 0.2823}, {'date': '2021-11-10', 'count': 54, 'normalized': 0.5204}, {'date': '2021-11-09', 'count': 54, 'normalized': 0.6219}, {'date': '2021-11-08', 'count': 44, 'normalized': 0.4467}, {'date': '2021-11-07', 'count': 10, 'normalized': 0.2595}, {'date': '2021-11-06', 'count': 12, 'normalized': 0.36}, {'date': '2021-11-05', 'count': 48, 'normalized': 0.6519}, {'date': '2021-11-04', 'count': 47, 'normalized': 0.5259}, {'date': '2021-11-03', 'count': 48, 'normalized': 0.5184}, {'date': '2021-11-02', 'count': 44, 'normalized': 0.4395}, {'date': '2021-11-01', 'count': 48, 'normalized': 0.6088}, {'date': '2021-10-31', 'count': 5, 'normalized': 0.8046}, {'date': '2021-10-30', 'count': 8, 'normalized': 0.381}, {'date': '2021-10-29', 'count': 44, 'normalized': 0.6543}, {'date': '2021-10-28', 'count': 39, 'normalized': 0.6267}, {'date': '2021-10-27', 'count': 42, 'normalized': 0.6576}, {'date': '2021-10-26', 'count': 30, 'normalized': 0.8486}, {'date': '2021-10-25', 'count': 47, 'normalized': 0.6393}, {'date': '2021-10-24', 'count': 9, 'normalized': 0.4418}, {'date': '2021-10-23', 'count': 14, 'normalized': 0.4137}, {'date': '2021-10-22', 'count': 70, 'normalized': 0.4128}, {'date': '2021-10-21', 'count': 87, 'normalized': 0.3957}, {'date': '2021-10-20', 'count': 71, 'normalized': 0.4975}, {'date': '2021-10-19', 'count': 69, 'normalized': 0.5426}, {'date': '2021-10-18', 'count': 60, 'normalized': 0.5159}, {'date': '2021-10-17', 'count': 18, 'normalized': 0.4519}, {'date': '2021-10-16', 'count': 18, 'normalized': 0.3673}, {'date': '2021-10-15', 'count': 58, 'normalized': 0.4254}, {'date': '2021-10-14', 'count': 87, 'normalized': 0.4627}, {'date': '2021-10-13', 'count': 68, 'normalized': 0.3835}, {'date': '2021-10-12', 'count': 69, 'normalized': 0.3373}, {'date': '2021-10-11', 'count': 68, 'normalized': 0.4608}, {'date': '2021-10-10', 'count': 17, 'normalized': 0.2498}, {'date': '2021-10-09', 'count': 17, 'normalized': 0.1269}, {'date': '2021-10-08', 'count': 36, 'normalized': 0.5779}, {'date': '2021-10-07', 'count': 37, 'normalized': 0.8044}, {'date': '2021-10-06', 'count': 42, 'normalized': 0.3223}, {'date': '2021-10-05', 'count': 32, 'normalized': 0.4633}, {'date': '2021-10-04', 'count': 28, 'normalized': 0.2991}, {'date': '2021-10-03', 'count': 4, 'normalized': 0.3055}, {'date': '2021-10-02', 'count': 4, 'normalized': 0.4885}, {'date': '2021-10-01', 'count': 30, 'normalized': 0.5416}, {'date': '2021-09-30', 'count': 39, 'normalized': 0.5114}, {'date': '2021-09-29', 'count': 72, 'normalized': 0.2744}, {'date': '2021-09-28', 'count': 54, 'normalized': 0.1313}, {'date': '2021-09-27', 'count': 34, 'normalized': 0.0616}, {'date': '2021-09-26', 'count': 8, 'normalized': 0.3328}, {'date': '2021-09-25', 'count': 7, 'normalized': 0.1443}, {'date': '2021-09-24', 'count': 25, 'normalized': 0.071}, {'date': '2021-09-23', 'count': 24, 'normalized': 0.3112}, {'date': '2021-09-22', 'count': 33, 'normalized': 0.1644}, {'date': '2021-09-21', 'count': 32, 'normalized': 0.1553}, {'date': '2021-09-20', 'count': 33, 'normalized': 0.1018}, {'date': '2021-09-19', 'count': 1, 'normalized': 0.964}, {'date': '2021-09-18', 'count': 1, 'normalized': 0.613}, {'date': '2021-09-17', 'count': 2, 'normalized': -0.043}, {'date': '2021-09-15', 'count': 1, 'normalized': 0.599}, {'date': '2021-08-31', 'count': 1, 'normalized': 0}, {'date': '2021-08-06', 'count': 2, 'normalized': 0}, {'date': '2021-07-22', 'count': 1, 'normalized': 0}, {'date': '2021-07-20', 'count': 1, 'normalized': -0.15}, {'date': '2021-07-08', 'count': 1, 'normalized': 0}, {'date': '2021-07-05', 'count': 1, 'normalized': 0}, {'date': '2021-06-23', 'count': 1, 'normalized': -0.053}, {'date': '2021-06-18', 'count': 1, 'normalized': -0.422}, {'date': '2021-06-08', 'count': 1, 'normalized': -0.026}, {'date': '2021-06-07', 'count': 1, 'normalized': 0.382}, {'date': '2021-05-24', 'count': 1, 'normalized': 0.691}, {'date': '2021-05-09', 'count': 1, 'normalized': 0}, {'date': '2021-05-06', 'count': 1, 'normalized': 0.572}, {'date': '2021-05-01', 'count': 1, 'normalized': 0.422}, {'date': '2021-04-12', 'count': 1, 'normalized': 0.511}, {'date': '2021-02-18', 'count': 1, 'normalized': 0.718}, {'date': '2021-02-10', 'count': 1, 'normalized': 0.422}, {'date': '2021-02-06', 'count': 1, 'normalized': 0.681}, {'date': '2021-01-25', 'count': 1, 'normalized': 0.511}, {'date': '2021-01-04', 'count': 1, 'normalized': 0.527}], 'ADA-USD.CC': [{'date': '2022-09-01', 'count': 2, 'normalized': 0.5305}, {'date': '2022-08-31', 'count': 2, 'normalized': 0.4245}, {'date': '2022-08-30', 'count': 3, 'normalized': 0.0833}, {'date': '2022-08-29', 'count': 3, 'normalized': 0.185}, {'date': '2022-08-28', 'count': 1, 'normalized': 0}, {'date': '2022-08-27', 'count': 1, 'normalized': 0}, {'date': '2022-08-26', 'count': 5, 'normalized': -0.1002}, {'date': '2022-08-25', 'count': 2, 'normalized': 0.931}, {'date': '2022-08-24', 'count': 6, 'normalized': 0.1217}, {'date': '2022-08-23', 'count': 1, 'normalized': 0}, {'date': '2022-08-22', 'count': 3, 'normalized': -0.1123}, {'date': '2022-08-21', 'count': 1, 'normalized': 0}, {'date': '2022-08-20', 'count': 1, 'normalized': 0}, {'date': '2022-08-19', 'count': 8, 'normalized': 0.0589}, {'date': '2022-08-16', 'count': 5, 'normalized': 0.3084}, {'date': '2022-08-15', 'count': 9, 'normalized': 0.1277}, {'date': '2022-08-14', 'count': 2, 'normalized': -0.089}, {'date': '2022-08-13', 'count': 3, 'normalized': 0.3487}, {'date': '2022-08-12', 'count': 3, 'normalized': 0.3257}, {'date': '2022-08-11', 'count': 5, 'normalized': 0.0674}, {'date': '2022-08-10', 'count': 3, 'normalized': 0}, {'date': '2022-08-09', 'count': 7, 'normalized': 0.2943}, {'date': '2022-08-08', 'count': 4, 'normalized': 0.0795}, {'date': '2022-08-06', 'count': 3, 'normalized': 0.086}, {'date': '2022-08-05', 'count': 7, 'normalized': 0.2784}, {'date': '2022-08-04', 'count': 1, 'normalized': 0}, {'date': '2022-08-03', 'count': 2, 'normalized': -0.355}, {'date': '2022-08-02', 'count': 9, 'normalized': 0.1978}, {'date': '2022-07-29', 'count': 2, 'normalized': 0.8135}, {'date': '2022-07-28', 'count': 1, 'normalized': 0}, {'date': '2022-07-27', 'count': 3, 'normalized': -0.0293}, {'date': '2022-07-26', 'count': 2, 'normalized': 0.5}, {'date': '2022-07-25', 'count': 3, 'normalized': 0.7427}, {'date': '2022-07-24', 'count': 2, 'normalized': 0.513}, {'date': '2022-07-22', 'count': 3, 'normalized': 0.3847}, {'date': '2022-07-21', 'count': 2, 'normalized': 0.579}, {'date': '2022-07-20', 'count': 1, 'normalized': 0.402}, {'date': '2022-07-16', 'count': 3, 'normalized': 0.3087}, {'date': '2022-07-14', 'count': 3, 'normalized': 0.1133}, {'date': '2022-07-12', 'count': 5, 'normalized': 0.0304}, {'date': '2022-07-11', 'count': 5, 'normalized': 0.0168}, {'date': '2022-07-08', 'count': 3, 'normalized': 0.1133}, {'date': '2022-07-07', 'count': 2, 'normalized': 0.3755}, {'date': '2022-07-05', 'count': 4, 'normalized': 0.0825}, {'date': '2022-07-04', 'count': 4, 'normalized': 0.31}, {'date': '2022-07-01', 'count': 4, 'normalized': -0.296}, {'date': '2022-06-30', 'count': 3, 'normalized': 0.31}, {'date': '2022-06-29', 'count': 1, 'normalized': -0.422}, {'date': '2022-06-28', 'count': 3, 'normalized': 0.2587}, {'date': '2022-06-27', 'count': 1, 'normalized': 0.718}, {'date': '2022-06-26', 'count': 1, 'normalized': 0.178}, {'date': '2022-06-23', 'count': 3, 'normalized': -0.101}, {'date': '2022-06-21', 'count': 2, 'normalized': 0.113}, {'date': '2022-06-20', 'count': 1, 'normalized': 0.202}, {'date': '2022-06-15', 'count': 3, 'normalized': 0.2633}, {'date': '2022-06-14', 'count': 7, 'normalized': -0.1081}, {'date': '2022-06-13', 'count': 4, 'normalized': 0.008}, {'date': '2022-06-12', 'count': 1, 'normalized': 0.25}, {'date': '2022-06-10', 'count': 2, 'normalized': -0.0935}, {'date': '2022-06-09', 'count': 4, 'normalized': -0.304}, {'date': '2022-06-08', 'count': 2, 'normalized': 0.1805}, {'date': '2022-06-07', 'count': 4, 'normalized': 0.199}, {'date': '2022-06-02', 'count': 3, 'normalized': -0.008}, {'date': '2022-06-01', 'count': 6, 'normalized': 0.2467}, {'date': '2022-05-30', 'count': 5, 'normalized': 0.1592}, {'date': '2022-05-27', 'count': 1, 'normalized': -0.494}, {'date': '2022-05-24', 'count': 1, 'normalized': 0.765}, {'date': '2022-05-23', 'count': 8, 'normalized': 0.1504}, {'date': '2022-05-22', 'count': 1, 'normalized': 0}, {'date': '2022-05-19', 'count': 5, 'normalized': 0.3064}, {'date': '2022-05-18', 'count': 1, 'normalized': 0}, {'date': '2022-05-17', 'count': 8, 'normalized': 0.1666}, {'date': '2022-05-14', 'count': 3, 'normalized': 0.2273}, {'date': '2022-05-13', 'count': 4, 'normalized': 0.3633}, {'date': '2022-05-12', 'count': 2, 'normalized': 0.158}, {'date': '2022-05-07', 'count': 2, 'normalized': 0}, {'date': '2022-05-06', 'count': 6, 'normalized': -0.0258}, {'date': '2022-05-04', 'count': 6, 'normalized': -0.061}, {'date': '2022-05-03', 'count': 5, 'normalized': -0.016}, {'date': '2022-05-02', 'count': 3, 'normalized': 0.5667}, {'date': '2022-04-30', 'count': 2, 'normalized': 0.247}, {'date': '2022-04-29', 'count': 2, 'normalized': 0.286}, {'date': '2022-04-27', 'count': 5, 'normalized': 0.3538}, {'date': '2022-04-26', 'count': 4, 'normalized': 0.2128}, {'date': '2022-04-25', 'count': 9, 'normalized': -0.0967}, {'date': '2022-04-24', 'count': 5, 'normalized': 0.6146}, {'date': '2022-04-23', 'count': 3, 'normalized': 0.483}, {'date': '2022-04-22', 'count': 7, 'normalized': -0.0494}, {'date': '2022-04-21', 'count': 8, 'normalized': 0.3893}, {'date': '2022-04-20', 'count': 8, 'normalized': 0.1843}, {'date': '2022-04-19', 'count': 5, 'normalized': 0.2076}, {'date': '2022-04-18', 'count': 5, 'normalized': -0.432}, {'date': '2022-04-16', 'count': 6, 'normalized': 0.3632}, {'date': '2022-04-15', 'count': 4, 'normalized': 0.572}, {'date': '2022-04-14', 'count': 6, 'normalized': 0.7027}, {'date': '2022-04-13', 'count': 3, 'normalized': 0.3503}, {'date': '2022-04-12', 'count': 6, 'normalized': 0.2185}, {'date': '2022-04-11', 'count': 8, 'normalized': 0.3475}, {'date': '2022-04-10', 'count': 1, 'normalized': 0.984}, {'date': '2022-04-09', 'count': 4, 'normalized': 0.3833}, {'date': '2022-04-08', 'count': 7, 'normalized': 0.0549}, {'date': '2022-04-07', 'count': 3, 'normalized': -0.021}, {'date': '2022-04-06', 'count': 3, 'normalized': 0.2737}, {'date': '2022-04-05', 'count': 4, 'normalized': 0.1193}, {'date': '2022-04-04', 'count': 15, 'normalized': 0.3198}, {'date': '2022-04-03', 'count': 1, 'normalized': -0.44}, {'date': '2022-04-02', 'count': 1, 'normalized': 0}, {'date': '2022-04-01', 'count': 3, 'normalized': 0.2677}, {'date': '2022-03-31', 'count': 1, 'normalized': -0.402}, {'date': '2022-03-30', 'count': 7, 'normalized': 0.3393}, {'date': '2022-03-29', 'count': 21, 'normalized': 0.446}, {'date': '2022-03-27', 'count': 1, 'normalized': 0.402}, {'date': '2022-03-26', 'count': 2, 'normalized': 0.1805}, {'date': '2022-03-25', 'count': 1, 'normalized': 0}, {'date': '2022-03-24', 'count': 10, 'normalized': 0.5749}, {'date': '2022-03-23', 'count': 17, 'normalized': 0.3544}, {'date': '2022-03-22', 'count': 5, 'normalized': 0.231}, {'date': '2022-03-21', 'count': 3, 'normalized': 0.4727}, {'date': '2022-03-19', 'count': 1, 'normalized': -0.197}, {'date': '2022-03-18', 'count': 1, 'normalized': 0}, {'date': '2022-03-17', 'count': 2, 'normalized': 0.191}, {'date': '2022-03-16', 'count': 4, 'normalized': 0.339}, {'date': '2022-03-15', 'count': 18, 'normalized': 0.0686}, {'date': '2022-03-14', 'count': 2, 'normalized': 0.506}, {'date': '2022-03-13', 'count': 1, 'normalized': -0.671}, {'date': '2022-03-11', 'count': 1, 'normalized': 0}, {'date': '2022-03-10', 'count': 1, 'normalized': 0}, {'date': '2022-03-09', 'count': 3, 'normalized': 0.4503}, {'date': '2022-03-08', 'count': 4, 'normalized': 0.3808}, {'date': '2022-03-07', 'count': 18, 'normalized': -0.0038}, {'date': '2022-03-06', 'count': 3, 'normalized': 0.185}, {'date': '2022-03-05', 'count': 3, 'normalized': 0.925}, {'date': '2022-03-04', 'count': 1, 'normalized': -0.34}, {'date': '2022-03-03', 'count': 2, 'normalized': 0.1775}, {'date': '2022-03-02', 'count': 3, 'normalized': 0.208}, {'date': '2022-03-01', 'count': 21, 'normalized': -0.0058}, {'date': '2022-02-28', 'count': 4, 'normalized': 0.064}, {'date': '2022-02-27', 'count': 1, 'normalized': -0.226}, {'date': '2022-02-26', 'count': 2, 'normalized': 0.2075}, {'date': '2022-02-25', 'count': 2, 'normalized': 0.07}, {'date': '2022-02-24', 'count': 7, 'normalized': -0.3081}, {'date': '2022-02-23', 'count': 3, 'normalized': 0.464}, {'date': '2022-02-22', 'count': 2, 'normalized': 0.0425}, {'date': '2022-02-21', 'count': 2, 'normalized': -0.049}, {'date': '2022-02-18', 'count': 2, 'normalized': 0.8085}, {'date': '2022-02-17', 'count': 17, 'normalized': 0.2609}, {'date': '2022-02-16', 'count': 9, 'normalized': 0.2683}, {'date': '2022-02-15', 'count': 5, 'normalized': 0.2382}, {'date': '2022-02-14', 'count': 4, 'normalized': 0.2453}, {'date': '2022-02-11', 'count': 1, 'normalized': 0.727}, {'date': '2022-02-10', 'count': 3, 'normalized': 0.487}, {'date': '2022-02-09', 'count': 2, 'normalized': -0.021}, {'date': '2022-02-08', 'count': 5, 'normalized': 0.4506}, {'date': '2022-02-07', 'count': 5, 'normalized': 0.4908}, {'date': '2022-02-04', 'count': 2, 'normalized': -0.142}, {'date': '2022-02-03', 'count': 3, 'normalized': 0.53}, {'date': '2022-02-02', 'count': 21, 'normalized': 0.6455}, {'date': '2022-02-01', 'count': 6, 'normalized': -0.2415}, {'date': '2022-01-31', 'count': 1, 'normalized': 0.459}, {'date': '2022-01-28', 'count': 1, 'normalized': 0}, {'date': '2022-01-27', 'count': 2, 'normalized': 0.3405}, {'date': '2022-01-26', 'count': 4, 'normalized': 0.223}, {'date': '2022-01-25', 'count': 2, 'normalized': 0.064}, {'date': '2022-01-24', 'count': 17, 'normalized': 0.1274}, {'date': '2022-01-21', 'count': 5, 'normalized': 0.1834}, {'date': '2022-01-20', 'count': 1, 'normalized': 0.391}, {'date': '2022-01-19', 'count': 2, 'normalized': -0.274}, {'date': '2022-01-17', 'count': 1, 'normalized': -0.557}, {'date': '2022-01-14', 'count': 19, 'normalized': 0.2427}, {'date': '2022-01-13', 'count': 1, 'normalized': 0.128}, {'date': '2022-01-12', 'count': 1, 'normalized': 0.872}, {'date': '2022-01-10', 'count': 1, 'normalized': 0.202}, {'date': '2022-01-09', 'count': 1, 'normalized': -0.192}, {'date': '2022-01-06', 'count': 17, 'normalized': 0.696}, {'date': '2022-01-05', 'count': 1, 'normalized': 0.84}, {'date': '2022-01-04', 'count': 12, 'normalized': 0.0162}, {'date': '2022-01-03', 'count': 14, 'normalized': 0.7201}, {'date': '2022-01-02', 'count': 3, 'normalized': 0.8917}, {'date': '2022-01-01', 'count': 1, 'normalized': 0.896}, {'date': '2021-12-31', 'count': 14, 'normalized': 0.5052}, {'date': '2021-12-30', 'count': 19, 'normalized': 0.2134}, {'date': '2021-12-29', 'count': 15, 'normalized': 0.4519}, {'date': '2021-12-28', 'count': 13, 'normalized': 0.4511}, {'date': '2021-12-27', 'count': 15, 'normalized': 0.4609}, {'date': '2021-12-26', 'count': 1, 'normalized': -0.802}, {'date': '2021-12-25', 'count': 3, 'normalized': 0.9497}, {'date': '2021-12-24', 'count': 11, 'normalized': 0.5402}, {'date': '2021-12-23', 'count': 19, 'normalized': 0.5833}, {'date': '2021-12-22', 'count': 16, 'normalized': 0.4609}, {'date': '2021-12-21', 'count': 16, 'normalized': 0.5553}, {'date': '2021-12-20', 'count': 17, 'normalized': 0.4166}, {'date': '2021-12-19', 'count': 1, 'normalized': 0.904}, {'date': '2021-12-18', 'count': 10, 'normalized': 0.1255}, {'date': '2021-12-17', 'count': 29, 'normalized': 0.5214}, {'date': '2021-12-16', 'count': 23, 'normalized': 0.5164}, {'date': '2021-12-15', 'count': 24, 'normalized': 0.269}, {'date': '2021-12-14', 'count': 38, 'normalized': 0.4509}, {'date': '2021-12-13', 'count': 25, 'normalized': 0.4079}, {'date': '2021-12-12', 'count': 5, 'normalized': 0.7242}, {'date': '2021-12-11', 'count': 9, 'normalized': 0.3851}, {'date': '2021-12-10', 'count': 33, 'normalized': 0.5086}, {'date': '2021-12-09', 'count': 41, 'normalized': 0.5242}, {'date': '2021-12-08', 'count': 30, 'normalized': 0.6399}, {'date': '2021-12-07', 'count': 26, 'normalized': 0.5779}, {'date': '2021-12-06', 'count': 25, 'normalized': 0.4619}, {'date': '2021-12-05', 'count': 5, 'normalized': 0.3406}, {'date': '2021-12-04', 'count': 8, 'normalized': 0.1994}, {'date': '2021-12-03', 'count': 40, 'normalized': 0.4874}, {'date': '2021-12-02', 'count': 29, 'normalized': 0.1551}, {'date': '2021-12-01', 'count': 29, 'normalized': 0.6188}, {'date': '2021-11-30', 'count': 42, 'normalized': 0.3925}, {'date': '2021-11-29', 'count': 29, 'normalized': 0.5227}, {'date': '2021-11-28', 'count': 11, 'normalized': 0.2455}, {'date': '2021-11-26', 'count': 26, 'normalized': 0.0627}, {'date': '2021-11-25', 'count': 34, 'normalized': 0.4425}, {'date': '2021-11-24', 'count': 35, 'normalized': 0.5267}, {'date': '2021-11-23', 'count': 45, 'normalized': 0.4067}, {'date': '2021-11-22', 'count': 31, 'normalized': 0.3842}, {'date': '2021-11-21', 'count': 6, 'normalized': 0.1697}, {'date': '2021-11-20', 'count': 7, 'normalized': 0.4106}, {'date': '2021-11-19', 'count': 39, 'normalized': 0.3561}, {'date': '2021-11-18', 'count': 26, 'normalized': 0.338}, {'date': '2021-11-17', 'count': 36, 'normalized': 0.3382}, {'date': '2021-11-16', 'count': 34, 'normalized': 0.5365}, {'date': '2021-11-15', 'count': 38, 'normalized': 0.3812}, {'date': '2021-11-14', 'count': 9, 'normalized': 0.3893}, {'date': '2021-11-13', 'count': 10, 'normalized': 0.4455}, {'date': '2021-11-12', 'count': 35, 'normalized': 0.5199}, {'date': '2021-11-11', 'count': 41, 'normalized': 0.1435}, {'date': '2021-11-10', 'count': 33, 'normalized': 0.5316}, {'date': '2021-11-09', 'count': 28, 'normalized': 0.6448}, {'date': '2021-11-08', 'count': 23, 'normalized': 0.2879}, {'date': '2021-11-07', 'count': 8, 'normalized': 0.3006}, {'date': '2021-11-06', 'count': 4, 'normalized': -0.227}, {'date': '2021-11-05', 'count': 33, 'normalized': 0.6136}, {'date': '2021-11-04', 'count': 29, 'normalized': 0.5451}, {'date': '2021-11-03', 'count': 33, 'normalized': 0.4354}, {'date': '2021-11-02', 'count': 24, 'normalized': 0.3455}, {'date': '2021-11-01', 'count': 36, 'normalized': 0.5734}, {'date': '2021-10-31', 'count': 2, 'normalized': 0.97}, {'date': '2021-10-30', 'count': 3, 'normalized': -0.069}, {'date': '2021-10-29', 'count': 28, 'normalized': 0.5298}, {'date': '2021-10-28', 'count': 22, 'normalized': 0.6362}, {'date': '2021-10-27', 'count': 29, 'normalized': 0.6055}, {'date': '2021-10-26', 'count': 23, 'normalized': 0.8372}, {'date': '2021-10-25', 'count': 31, 'normalized': 0.6827}, {'date': '2021-10-24', 'count': 6, 'normalized': 0.3267}, {'date': '2021-10-23', 'count': 3, 'normalized': 0.735}, {'date': '2021-10-22', 'count': 27, 'normalized': 0.4422}, {'date': '2021-10-21', 'count': 31, 'normalized': 0.3802}, {'date': '2021-10-20', 'count': 32, 'normalized': 0.5044}, {'date': '2021-10-19', 'count': 37, 'normalized': 0.4704}, {'date': '2021-10-18', 'count': 32, 'normalized': 0.4727}, {'date': '2021-10-17', 'count': 6, 'normalized': 0.5137}, {'date': '2021-10-16', 'count': 12, 'normalized': 0.4034}, {'date': '2021-10-15', 'count': 27, 'normalized': 0.4475}, {'date': '2021-10-14', 'count': 40, 'normalized': 0.4012}, {'date': '2021-10-13', 'count': 45, 'normalized': 0.4487}, {'date': '2021-10-12', 'count': 36, 'normalized': 0.4684}, {'date': '2021-10-11', 'count': 35, 'normalized': 0.6045}, {'date': '2021-10-10', 'count': 12, 'normalized': 0.2853}, {'date': '2021-10-09', 'count': 10, 'normalized': 0.2881}, {'date': '2021-10-08', 'count': 30, 'normalized': 0.5517}, {'date': '2021-10-07', 'count': 41, 'normalized': 0.5382}, {'date': '2021-10-06', 'count': 39, 'normalized': 0.2661}, {'date': '2021-10-05', 'count': 23, 'normalized': 0.4137}, {'date': '2021-10-04', 'count': 23, 'normalized': 0.0974}, {'date': '2021-10-03', 'count': 2, 'normalized': 0.213}, {'date': '2021-10-02', 'count': 2, 'normalized': 0.0325}, {'date': '2021-10-01', 'count': 23, 'normalized': 0.4839}, {'date': '2021-09-30', 'count': 33, 'normalized': 0.4978}, {'date': '2021-09-29', 'count': 53, 'normalized': 0.2928}, {'date': '2021-09-28', 'count': 16, 'normalized': 0.2982}, {'date': '2021-09-27', 'count': 47, 'normalized': 0.3788}, {'date': '2021-09-26', 'count': 15, 'normalized': 0.3802}, {'date': '2021-09-25', 'count': 13, 'normalized': 0.2278}, {'date': '2021-09-24', 'count': 21, 'normalized': 0.0262}, {'date': '2021-09-23', 'count': 20, 'normalized': 0.2238}, {'date': '2021-09-22', 'count': 15, 'normalized': 0.2349}, {'date': '2021-09-21', 'count': 17, 'normalized': 0.2746}, {'date': '2021-09-20', 'count': 24, 'normalized': 0.235}, {'date': '2021-09-19', 'count': 8, 'normalized': 0.256}, {'date': '2021-09-18', 'count': 10, 'normalized': 0.5395}, {'date': '2021-09-15', 'count': 2, 'normalized': 0.487}, {'date': '2021-09-08', 'count': 1, 'normalized': -0.361}, {'date': '2021-08-27', 'count': 1, 'normalized': 0}, {'date': '2021-08-25', 'count': 1, 'normalized': -0.103}, {'date': '2021-08-20', 'count': 1, 'normalized': 0}, {'date': '2021-08-10', 'count': 1, 'normalized': 0.273}, {'date': '2021-08-05', 'count': 1, 'normalized': -0.178}, {'date': '2021-07-25', 'count': 1, 'normalized': 0}, {'date': '2021-07-23', 'count': 1, 'normalized': -0.557}, {'date': '2021-07-18', 'count': 1, 'normalized': -0.026}, {'date': '2021-07-17', 'count': 1, 'normalized': -0.7}, {'date': '2021-07-06', 'count': 1, 'normalized': 0.66}, {'date': '2021-07-02', 'count': 1, 'normalized': 0.44}, {'date': '2021-07-01', 'count': 1, 'normalized': -0.273}, {'date': '2021-01-04', 'count': 1, 'normalized': 0.527}], 'BNB-USD.CC': [{'date': '2022-09-01', 'count': 1, 'normalized': 0}, {'date': '2022-08-29', 'count': 5, 'normalized': 0.3446}, {'date': '2022-08-25', 'count': 3, 'normalized': 0.4703}, {'date': '2022-08-22', 'count': 5, 'normalized': 0.266}, {'date': '2022-08-21', 'count': 2, 'normalized': 0.2635}, {'date': '2022-08-20', 'count': 1, 'normalized': 0}, {'date': '2022-08-17', 'count': 1, 'normalized': 0.103}, {'date': '2022-08-16', 'count': 3, 'normalized': 0.6817}, {'date': '2022-08-13', 'count': 1, 'normalized': 0.318}, {'date': '2022-08-12', 'count': 2, 'normalized': 0.389}, {'date': '2022-08-10', 'count': 2, 'normalized': 0.0755}, {'date': '2022-08-08', 'count': 1, 'normalized': 0.772}, {'date': '2022-08-07', 'count': 2, 'normalized': 0.201}, {'date': '2022-08-04', 'count': 2, 'normalized': 0.293}, {'date': '2022-08-02', 'count': 2, 'normalized': 0.4245}, {'date': '2022-08-01', 'count': 3, 'normalized': -0.05}, {'date': '2022-07-29', 'count': 2, 'normalized': -0.3915}, {'date': '2022-07-28', 'count': 1, 'normalized': -0.718}, {'date': '2022-07-27', 'count': 9, 'normalized': 0.4882}, {'date': '2022-07-25', 'count': 1, 'normalized': 0.637}, {'date': '2022-07-22', 'count': 18, 'normalized': 0.3282}, {'date': '2022-07-20', 'count': 5, 'normalized': 0.5042}, {'date': '2022-07-19', 'count': 2, 'normalized': 0.041}, {'date': '2022-07-18', 'count': 1, 'normalized': -0.818}, {'date': '2022-07-17', 'count': 1, 'normalized': 0.649}, {'date': '2022-07-15', 'count': 1, 'normalized': 0.361}, {'date': '2022-07-14', 'count': 1, 'normalized': 0.872}, {'date': '2022-07-13', 'count': 5, 'normalized': -0.057}, {'date': '2022-07-12', 'count': 1, 'normalized': 0.542}, {'date': '2022-07-11', 'count': 8, 'normalized': -0.3726}, {'date': '2022-07-08', 'count': 12, 'normalized': -0.0963}, {'date': '2022-07-06', 'count': 1, 'normalized': -0.273}, {'date': '2022-07-05', 'count': 1, 'normalized': 0.7}, {'date': '2022-07-04', 'count': 5, 'normalized': -0.2042}, {'date': '2022-07-01', 'count': 4, 'normalized': 0.2105}, {'date': '2022-06-30', 'count': 4, 'normalized': -0.4445}, {'date': '2022-06-22', 'count': 1, 'normalized': 0.986}, {'date': '2022-06-20', 'count': 1, 'normalized': 0.296}, {'date': '2022-06-17', 'count': 1, 'normalized': 0.178}, {'date': '2022-06-08', 'count': 6, 'normalized': 0.7403}, {'date': '2022-06-07', 'count': 20, 'normalized': 0.4079}, {'date': '2022-06-06', 'count': 1, 'normalized': 0}, {'date': '2022-06-01', 'count': 3, 'normalized': 0.0833}, {'date': '2022-05-25', 'count': 6, 'normalized': 0.1305}, {'date': '2022-05-24', 'count': 10, 'normalized': 0.0779}, {'date': '2022-05-20', 'count': 16, 'normalized': 0.1724}, {'date': '2022-05-18', 'count': 2, 'normalized': 0.3345}, {'date': '2022-05-13', 'count': 23, 'normalized': -0.308}, {'date': '2022-05-10', 'count': 3, 'normalized': 0.019}, {'date': '2022-05-05', 'count': 2, 'normalized': 0.2235}, {'date': '2022-04-30', 'count': 1, 'normalized': 0.542}, {'date': '2022-04-29', 'count': 3, 'normalized': 0.119}, {'date': '2022-04-27', 'count': 3, 'normalized': 0.2443}, {'date': '2022-04-26', 'count': 5, 'normalized': 0.6512}, {'date': '2022-04-22', 'count': 7, 'normalized': -0.0616}, {'date': '2022-04-21', 'count': 7, 'normalized': 0.8257}, {'date': '2022-04-20', 'count': 8, 'normalized': 0.0876}, {'date': '2022-04-19', 'count': 14, 'normalized': 0.3547}, {'date': '2022-04-18', 'count': 3, 'normalized': 0.4417}, {'date': '2022-04-16', 'count': 2, 'normalized': 0.9585}, {'date': '2022-04-14', 'count': 9, 'normalized': 0.5209}, {'date': '2022-04-13', 'count': 4, 'normalized': 0.5363}, {'date': '2022-04-12', 'count': 2, 'normalized': 0.293}, {'date': '2022-04-11', 'count': 9, 'normalized': 0.6026}, {'date': '2022-04-10', 'count': 2, 'normalized': 0.9565}, {'date': '2022-04-09', 'count': 2, 'normalized': 0.4175}, {'date': '2022-04-08', 'count': 14, 'normalized': 0.2601}, {'date': '2022-04-07', 'count': 4, 'normalized': 0.4045}, {'date': '2022-04-05', 'count': 2, 'normalized': 0.3955}, {'date': '2022-04-04', 'count': 6, 'normalized': 0.3485}, {'date': '2022-04-02', 'count': 5, 'normalized': 0.476}, {'date': '2022-04-01', 'count': 10, 'normalized': 0.665}, {'date': '2022-03-31', 'count': 2, 'normalized': -0.0525}, {'date': '2022-03-30', 'count': 2, 'normalized': 0.4895}, {'date': '2022-03-29', 'count': 5, 'normalized': 0.6348}, {'date': '2022-03-28', 'count': 5, 'normalized': 0.5802}, {'date': '2022-03-24', 'count': 1, 'normalized': 0.649}, {'date': '2022-03-23', 'count': 11, 'normalized': 0.286}, {'date': '2022-03-22', 'count': 6, 'normalized': 0.6678}, {'date': '2022-03-19', 'count': 1, 'normalized': -0.197}, {'date': '2022-03-18', 'count': 2, 'normalized': 0}, {'date': '2022-03-17', 'count': 11, 'normalized': 0.6817}, {'date': '2022-03-16', 'count': 3, 'normalized': 0.9387}, {'date': '2022-03-12', 'count': 2, 'normalized': -0.0475}, {'date': '2022-03-11', 'count': 19, 'normalized': 0.3987}, {'date': '2022-03-09', 'count': 2, 'normalized': 0.22}, {'date': '2022-03-08', 'count': 1, 'normalized': -0.477}, {'date': '2022-03-07', 'count': 2, 'normalized': 0.2735}, {'date': '2022-03-05', 'count': 3, 'normalized': 0.925}, {'date': '2022-03-04', 'count': 11, 'normalized': 0.3734}, {'date': '2022-03-02', 'count': 1, 'normalized': 0.829}, {'date': '2022-03-01', 'count': 1, 'normalized': 0.852}, {'date': '2022-02-27', 'count': 2, 'normalized': 0.4575}, {'date': '2022-02-26', 'count': 1, 'normalized': 0.953}, {'date': '2022-02-25', 'count': 15, 'normalized': 0.041}, {'date': '2022-02-24', 'count': 4, 'normalized': -0.2428}, {'date': '2022-02-23', 'count': 4, 'normalized': 0.435}, {'date': '2022-02-22', 'count': 1, 'normalized': 0.997}, {'date': '2022-02-21', 'count': 13, 'normalized': 0.4097}, {'date': '2022-02-20', 'count': 2, 'normalized': -0.0545}, {'date': '2022-02-19', 'count': 1, 'normalized': 0.836}, {'date': '2022-02-18', 'count': 2, 'normalized': 0.2355}, {'date': '2022-02-17', 'count': 2, 'normalized': 0.5835}, {'date': '2022-02-16', 'count': 4, 'normalized': 0.37}, {'date': '2022-02-15', 'count': 2, 'normalized': 0.5835}, {'date': '2022-02-13', 'count': 1, 'normalized': -0.296}, {'date': '2022-02-12', 'count': 3, 'normalized': 0.218}, {'date': '2022-02-11', 'count': 15, 'normalized': 0.0956}, {'date': '2022-02-09', 'count': 1, 'normalized': 0.557}, {'date': '2022-02-08', 'count': 1, 'normalized': 0.103}, {'date': '2022-02-07', 'count': 1, 'normalized': 0.557}, {'date': '2022-02-03', 'count': 1, 'normalized': 0.977}, {'date': '2022-02-02', 'count': 18, 'normalized': 0.6422}, {'date': '2022-02-01', 'count': 2, 'normalized': -0.39}, {'date': '2022-01-29', 'count': 2, 'normalized': -0.0675}, {'date': '2022-01-28', 'count': 9, 'normalized': 0.3227}, {'date': '2022-01-27', 'count': 1, 'normalized': 0.637}, {'date': '2022-01-26', 'count': 7, 'normalized': 0.3449}, {'date': '2022-01-25', 'count': 16, 'normalized': 0.3294}, {'date': '2022-01-24', 'count': 3, 'normalized': 0.028}, {'date': '2022-01-21', 'count': 3, 'normalized': -0.2037}, {'date': '2022-01-19', 'count': 4, 'normalized': 0.4403}, {'date': '2022-01-18', 'count': 17, 'normalized': 0.2356}, {'date': '2022-01-17', 'count': 5, 'normalized': 0.548}, {'date': '2022-01-15', 'count': 2, 'normalized': 0.675}, {'date': '2022-01-14', 'count': 1, 'normalized': 0.885}, {'date': '2022-01-13', 'count': 5, 'normalized': 0.5774}, {'date': '2022-01-12', 'count': 17, 'normalized': 0.5852}, {'date': '2022-01-11', 'count': 2, 'normalized': -0.1605}, {'date': '2022-01-10', 'count': 2, 'normalized': 0.167}, {'date': '2022-01-09', 'count': 1, 'normalized': -0.192}, {'date': '2022-01-06', 'count': 1, 'normalized': 0.672}, {'date': '2022-01-05', 'count': 19, 'normalized': 0.5105}, {'date': '2022-01-04', 'count': 13, 'normalized': -0.0142}, {'date': '2022-01-03', 'count': 12, 'normalized': 0.7579}, {'date': '2022-01-02', 'count': 2, 'normalized': 0.8935}, {'date': '2022-01-01', 'count': 1, 'normalized': 0.896}, {'date': '2021-12-31', 'count': 13, 'normalized': 0.4677}, {'date': '2021-12-30', 'count': 17, 'normalized': 0.1562}, {'date': '2021-12-29', 'count': 14, 'normalized': 0.5715}, {'date': '2021-12-28', 'count': 12, 'normalized': 0.4508}, {'date': '2021-12-27', 'count': 12, 'normalized': 0.3282}, {'date': '2021-12-26', 'count': 1, 'normalized': -0.802}, {'date': '2021-12-25', 'count': 2, 'normalized': 0.927}, {'date': '2021-12-24', 'count': 10, 'normalized': 0.4956}, {'date': '2021-12-23', 'count': 17, 'normalized': 0.5264}, {'date': '2021-12-22', 'count': 17, 'normalized': 0.4719}, {'date': '2021-12-21', 'count': 15, 'normalized': 0.5262}, {'date': '2021-12-20', 'count': 19, 'normalized': 0.2722}, {'date': '2021-12-19', 'count': 2, 'normalized': 0.951}, {'date': '2021-12-18', 'count': 10, 'normalized': 0.1255}, {'date': '2021-12-17', 'count': 27, 'normalized': 0.5056}, {'date': '2021-12-16', 'count': 22, 'normalized': 0.5646}, {'date': '2021-12-15', 'count': 19, 'normalized': 0.2851}, {'date': '2021-12-14', 'count': 36, 'normalized': 0.4551}, {'date': '2021-12-13', 'count': 21, 'normalized': 0.4166}, {'date': '2021-12-12', 'count': 5, 'normalized': 0.7242}, {'date': '2021-12-11', 'count': 10, 'normalized': 0.3264}, {'date': '2021-12-10', 'count': 32, 'normalized': 0.4952}, {'date': '2021-12-09', 'count': 42, 'normalized': 0.4921}, {'date': '2021-12-08', 'count': 27, 'normalized': 0.6086}, {'date': '2021-12-07', 'count': 26, 'normalized': 0.5779}, {'date': '2021-12-06', 'count': 23, 'normalized': 0.5058}, {'date': '2021-12-05', 'count': 5, 'normalized': 0.3406}, {'date': '2021-12-04', 'count': 8, 'normalized': 0.1994}, {'date': '2021-12-03', 'count': 40, 'normalized': 0.5072}, {'date': '2021-12-02', 'count': 26, 'normalized': 0.1022}, {'date': '2021-12-01', 'count': 24, 'normalized': 0.7389}, {'date': '2021-11-30', 'count': 36, 'normalized': 0.3548}, {'date': '2021-11-29', 'count': 29, 'normalized': 0.5468}, {'date': '2021-11-28', 'count': 11, 'normalized': 0.2455}, {'date': '2021-11-26', 'count': 25, 'normalized': 0.0483}, {'date': '2021-11-25', 'count': 33, 'normalized': 0.4307}, {'date': '2021-11-24', 'count': 33, 'normalized': 0.6118}, {'date': '2021-11-23', 'count': 39, 'normalized': 0.3619}, {'date': '2021-11-22', 'count': 30, 'normalized': 0.4046}, {'date': '2021-11-21', 'count': 7, 'normalized': 0.0066}, {'date': '2021-11-20', 'count': 6, 'normalized': 0.479}, {'date': '2021-11-19', 'count': 36, 'normalized': 0.3806}, {'date': '2021-11-18', 'count': 26, 'normalized': 0.338}, {'date': '2021-11-17', 'count': 33, 'normalized': 0.3758}, {'date': '2021-11-16', 'count': 33, 'normalized': 0.5516}, {'date': '2021-11-15', 'count': 35, 'normalized': 0.3926}, {'date': '2021-11-14', 'count': 10, 'normalized': 0.353}, {'date': '2021-11-13', 'count': 10, 'normalized': 0.5041}, {'date': '2021-11-12', 'count': 33, 'normalized': 0.5521}, {'date': '2021-11-11', 'count': 39, 'normalized': 0.1943}, {'date': '2021-11-10', 'count': 24, 'normalized': 0.4922}, {'date': '2021-11-09', 'count': 22, 'normalized': 0.6207}, {'date': '2021-11-08', 'count': 19, 'normalized': 0.3224}, {'date': '2021-11-07', 'count': 8, 'normalized': 0.333}, {'date': '2021-11-06', 'count': 4, 'normalized': -0.227}, {'date': '2021-11-05', 'count': 33, 'normalized': 0.6425}, {'date': '2021-11-04', 'count': 27, 'normalized': 0.526}, {'date': '2021-11-03', 'count': 33, 'normalized': 0.4251}, {'date': '2021-11-02', 'count': 24, 'normalized': 0.3871}, {'date': '2021-11-01', 'count': 32, 'normalized': 0.5359}, {'date': '2021-10-31', 'count': 2, 'normalized': 0.97}, {'date': '2021-10-30', 'count': 3, 'normalized': -0.069}, {'date': '2021-10-29', 'count': 25, 'normalized': 0.5953}, {'date': '2021-10-28', 'count': 21, 'normalized': 0.619}, {'date': '2021-10-27', 'count': 30, 'normalized': 0.6741}, {'date': '2021-10-26', 'count': 20, 'normalized': 0.8483}, {'date': '2021-10-25', 'count': 26, 'normalized': 0.7043}, {'date': '2021-10-24', 'count': 5, 'normalized': 0.392}, {'date': '2021-10-23', 'count': 3, 'normalized': -0.0307}, {'date': '2021-10-22', 'count': 30, 'normalized': 0.456}, {'date': '2021-10-21', 'count': 24, 'normalized': 0.4042}, {'date': '2021-10-20', 'count': 27, 'normalized': 0.5183}, {'date': '2021-10-19', 'count': 34, 'normalized': 0.6035}, {'date': '2021-10-18', 'count': 28, 'normalized': 0.3914}, {'date': '2021-10-17', 'count': 4, 'normalized': 0.8023}, {'date': '2021-10-16', 'count': 4, 'normalized': 0.4725}, {'date': '2021-10-15', 'count': 20, 'normalized': 0.5153}, {'date': '2021-10-14', 'count': 35, 'normalized': 0.5241}, {'date': '2021-10-13', 'count': 41, 'normalized': 0.4857}, {'date': '2021-10-12', 'count': 34, 'normalized': 0.5847}, {'date': '2021-10-11', 'count': 28, 'normalized': 0.6244}, {'date': '2021-10-10', 'count': 6, 'normalized': 0.1965}, {'date': '2021-10-09', 'count': 3, 'normalized': 0.531}, {'date': '2021-10-08', 'count': 21, 'normalized': 0.6}, {'date': '2021-10-07', 'count': 28, 'normalized': 0.6693}, {'date': '2021-10-06', 'count': 36, 'normalized': 0.267}, {'date': '2021-10-05', 'count': 26, 'normalized': 0.4477}, {'date': '2021-10-04', 'count': 23, 'normalized': 0.0464}, {'date': '2021-10-03', 'count': 3, 'normalized': 0.142}, {'date': '2021-10-02', 'count': 2, 'normalized': 0.0325}, {'date': '2021-10-01', 'count': 22, 'normalized': 0.4606}, {'date': '2021-09-30', 'count': 30, 'normalized': 0.4505}, {'date': '2021-09-29', 'count': 34, 'normalized': 0.4692}, {'date': '2021-09-28', 'count': 1, 'normalized': 0.361}, {'date': '2021-09-27', 'count': 3, 'normalized': 0.2203}, {'date': '2021-09-26', 'count': 3, 'normalized': 0.3593}, {'date': '2021-09-25', 'count': 3, 'normalized': 0.3463}, {'date': '2021-09-24', 'count': 2, 'normalized': -0.35}, {'date': '2021-09-23', 'count': 5, 'normalized': 0.2016}, {'date': '2021-09-22', 'count': 4, 'normalized': 0.1455}, {'date': '2021-09-21', 'count': 2, 'normalized': 0.0365}, {'date': '2021-09-20', 'count': 6, 'normalized': 0.0318}, {'date': '2021-09-19', 'count': 4, 'normalized': 0.328}, {'date': '2021-09-18', 'count': 2, 'normalized': 0.1225}, {'date': '2021-09-17', 'count': 4, 'normalized': -0.1678}, {'date': '2021-09-16', 'count': 7, 'normalized': 0.1531}, {'date': '2021-09-15', 'count': 4, 'normalized': 0.3723}, {'date': '2021-09-14', 'count': 1, 'normalized': 0.66}, {'date': '2021-09-09', 'count': 1, 'normalized': 0.856}, {'date': '2021-09-07', 'count': 1, 'normalized': 0.511}, {'date': '2021-09-06', 'count': 1, 'normalized': 0.566}, {'date': '2021-08-23', 'count': 2, 'normalized': 0.4795}, {'date': '2021-08-20', 'count': 1, 'normalized': 0.318}, {'date': '2021-08-17', 'count': 1, 'normalized': 0}, {'date': '2021-08-16', 'count': 1, 'normalized': 0.511}, {'date': '2021-08-13', 'count': 1, 'normalized': -0.296}, {'date': '2021-07-27', 'count': 1, 'normalized': 0.758}, {'date': '2021-07-20', 'count': 1, 'normalized': 0}, {'date': '2021-07-13', 'count': 1, 'normalized': -0.743}, {'date': '2021-06-03', 'count': 1, 'normalized': 0.273}, {'date': '2021-05-28', 'count': 1, 'normalized': -0.527}, {'date': '2021-05-27', 'count': 1, 'normalized': -0.476}, {'date': '2021-05-20', 'count': 1, 'normalized': -0.7}, {'date': '2021-04-12', 'count': 2, 'normalized': 0}, {'date': '2021-03-18', 'count': 1, 'normalized': 0}, {'date': '2021-02-22', 'count': 1, 'normalized': 0.34}, {'date': '2021-02-19', 'count': 1, 'normalized': 0}, {'date': '2021-01-04', 'count': 1, 'normalized': 0.527}], 'BTC-USD.CC': [{'date': '2022-09-01', 'count': 25, 'normalized': 0.1886}, {'date': '2022-08-31', 'count': 23, 'normalized': 0.0317}, {'date': '2022-08-30', 'count': 27, 'normalized': 0.1208}, {'date': '2022-08-29', 'count': 36, 'normalized': 0.106}, {'date': '2022-08-28', 'count': 13, 'normalized': -0.0475}, {'date': '2022-08-27', 'count': 5, 'normalized': 0.276}, {'date': '2022-08-26', 'count': 23, 'normalized': 0.1138}, {'date': '2022-08-25', 'count': 31, 'normalized': 0.2489}, {'date': '2022-08-24', 'count': 25, 'normalized': 0.1735}, {'date': '2022-08-23', 'count': 37, 'normalized': 0.1381}, {'date': '2022-08-22', 'count': 32, 'normalized': -0.0293}, {'date': '2022-08-21', 'count': 6, 'normalized': 0.2338}, {'date': '2022-08-20', 'count': 9, 'normalized': 0.0172}, {'date': '2022-08-19', 'count': 33, 'normalized': -0.0012}, {'date': '2022-08-18', 'count': 30, 'normalized': 0.1483}, {'date': '2022-08-17', 'count': 48, 'normalized': 0.1817}, {'date': '2022-08-16', 'count': 37, 'normalized': 0.1041}, {'date': '2022-08-15', 'count': 30, 'normalized': 0.029}, {'date': '2022-08-14', 'count': 12, 'normalized': 0.1327}, {'date': '2022-08-13', 'count': 9, 'normalized': 0.1059}, {'date': '2022-08-12', 'count': 26, 'normalized': 0.0923}, {'date': '2022-08-11', 'count': 31, 'normalized': 0.1731}, {'date': '2022-08-10', 'count': 25, 'normalized': 0.2315}, {'date': '2022-08-09', 'count': 24, 'normalized': 0.1627}, {'date': '2022-08-08', 'count': 28, 'normalized': 0.1893}, {'date': '2022-08-07', 'count': 5, 'normalized': 0.1372}, {'date': '2022-08-06', 'count': 3, 'normalized': 0.412}, {'date': '2022-08-05', 'count': 29, 'normalized': 0.0863}, {'date': '2022-08-04', 'count': 33, 'normalized': 0.0345}, {'date': '2022-08-03', 'count': 33, 'normalized': 0.0419}, {'date': '2022-08-02', 'count': 22, 'normalized': 0.0446}, {'date': '2022-08-01', 'count': 14, 'normalized': 0.0514}, {'date': '2022-07-31', 'count': 10, 'normalized': 0.1758}, {'date': '2022-07-30', 'count': 8, 'normalized': 0.2461}, {'date': '2022-07-29', 'count': 29, 'normalized': 0.0938}, {'date': '2022-07-28', 'count': 20, 'normalized': 0.12}, {'date': '2022-07-27', 'count': 26, 'normalized': -0.0311}, {'date': '2022-07-26', 'count': 21, 'normalized': 0.1328}, {'date': '2022-07-25', 'count': 22, 'normalized': 0.2959}, {'date': '2022-07-23', 'count': 5, 'normalized': 0.2406}, {'date': '2022-07-22', 'count': 27, 'normalized': 0.0026}, {'date': '2022-07-21', 'count': 31, 'normalized': 0.1252}, {'date': '2022-07-20', 'count': 26, 'normalized': 0.1579}, {'date': '2022-07-19', 'count': 33, 'normalized': 0.0068}, {'date': '2022-07-18', 'count': 21, 'normalized': 0.3059}, {'date': '2022-07-17', 'count': 2, 'normalized': -0.159}, {'date': '2022-07-16', 'count': 7, 'normalized': 0.1204}, {'date': '2022-07-15', 'count': 25, 'normalized': 0.2765}, {'date': '2022-07-14', 'count': 37, 'normalized': 0.1552}, {'date': '2022-07-13', 'count': 26, 'normalized': 0.2194}, {'date': '2022-07-12', 'count': 35, 'normalized': -0.0369}, {'date': '2022-07-11', 'count': 21, 'normalized': 0.1072}, {'date': '2022-07-10', 'count': 2, 'normalized': -0.077}, {'date': '2022-07-09', 'count': 1, 'normalized': -0.026}, {'date': '2022-07-08', 'count': 52, 'normalized': 0.1206}, {'date': '2022-07-07', 'count': 27, 'normalized': 0.1248}, {'date': '2022-07-06', 'count': 28, 'normalized': 0.0115}, {'date': '2022-07-05', 'count': 29, 'normalized': -0.0378}, {'date': '2022-07-04', 'count': 18, 'normalized': 0.1287}, {'date': '2022-07-03', 'count': 7, 'normalized': 0.0234}, {'date': '2022-07-02', 'count': 10, 'normalized': -0.0165}, {'date': '2022-07-01', 'count': 51, 'normalized': -0.0116}, {'date': '2022-06-30', 'count': 31, 'normalized': -0.0821}, {'date': '2022-06-29', 'count': 36, 'normalized': 0.0463}, {'date': '2022-06-28', 'count': 31, 'normalized': 0.2054}, {'date': '2022-06-27', 'count': 14, 'normalized': 0.1996}, {'date': '2022-06-25', 'count': 7, 'normalized': 0.139}, {'date': '2022-06-24', 'count': 25, 'normalized': 0.2126}, {'date': '2022-06-23', 'count': 36, 'normalized': 0.0238}, {'date': '2022-06-22', 'count': 36, 'normalized': 0.1008}, {'date': '2022-06-21', 'count': 31, 'normalized': -0.0493}, {'date': '2022-06-20', 'count': 30, 'normalized': -0.0274}, {'date': '2022-06-18', 'count': 14, 'normalized': -0.1664}, {'date': '2022-06-17', 'count': 20, 'normalized': -0.0571}, {'date': '2022-06-16', 'count': 38, 'normalized': 0.1864}, {'date': '2022-06-15', 'count': 43, 'normalized': 0.1669}, {'date': '2022-06-14', 'count': 42, 'normalized': 0.0976}, {'date': '2022-06-13', 'count': 45, 'normalized': -0.1595}, {'date': '2022-06-12', 'count': 4, 'normalized': -0.1553}, {'date': '2022-06-11', 'count': 3, 'normalized': 0.2647}, {'date': '2022-06-10', 'count': 29, 'normalized': 0.1431}, {'date': '2022-06-09', 'count': 29, 'normalized': 0.1018}, {'date': '2022-06-08', 'count': 24, 'normalized': 0.1686}, {'date': '2022-06-07', 'count': 34, 'normalized': 0.1313}, {'date': '2022-06-06', 'count': 21, 'normalized': 0.1756}, {'date': '2022-06-05', 'count': 2, 'normalized': -0.148}, {'date': '2022-06-04', 'count': 7, 'normalized': -0.0714}, {'date': '2022-06-03', 'count': 24, 'normalized': 0.1926}, {'date': '2022-06-02', 'count': 21, 'normalized': 0.0989}, {'date': '2022-06-01', 'count': 25, 'normalized': 0.2955}, {'date': '2022-05-31', 'count': 24, 'normalized': 0.2646}, {'date': '2022-05-30', 'count': 19, 'normalized': 0.0883}, {'date': '2022-05-29', 'count': 12, 'normalized': 0.3397}, {'date': '2022-05-28', 'count': 8, 'normalized': -0.0115}, {'date': '2022-05-27', 'count': 18, 'normalized': -0.0498}, {'date': '2022-05-26', 'count': 28, 'normalized': -0.003}, {'date': '2022-05-25', 'count': 17, 'normalized': -0.0269}, {'date': '2022-05-24', 'count': 23, 'normalized': 0.0309}, {'date': '2022-05-23', 'count': 38, 'normalized': 0.2858}, {'date': '2022-05-22', 'count': 2, 'normalized': 0.0045}, {'date': '2022-05-21', 'count': 5, 'normalized': -0.033}, {'date': '2022-05-20', 'count': 19, 'normalized': 0.0096}, {'date': '2022-05-19', 'count': 29, 'normalized': 0.1373}, {'date': '2022-05-18', 'count': 23, 'normalized': 0.0469}, {'date': '2022-05-17', 'count': 26, 'normalized': 0.1901}, {'date': '2022-05-16', 'count': 34, 'normalized': 0.1898}, {'date': '2022-05-15', 'count': 6, 'normalized': -0.0045}, {'date': '2022-05-14', 'count': 18, 'normalized': -0.0022}, {'date': '2022-05-13', 'count': 41, 'normalized': -0.0103}, {'date': '2022-05-12', 'count': 41, 'normalized': -0.0346}, {'date': '2022-05-11', 'count': 28, 'normalized': 0.1866}, {'date': '2022-05-10', 'count': 24, 'normalized': -0.045}, {'date': '2022-05-09', 'count': 42, 'normalized': -0.0549}, {'date': '2022-05-08', 'count': 10, 'normalized': 0.0083}, {'date': '2022-05-07', 'count': 9, 'normalized': 0.0151}, {'date': '2022-05-06', 'count': 39, 'normalized': -0.0172}, {'date': '2022-05-05', 'count': 42, 'normalized': 0.2663}, {'date': '2022-05-04', 'count': 35, 'normalized': 0.2}, {'date': '2022-05-03', 'count': 30, 'normalized': 0.0706}, {'date': '2022-05-02', 'count': 28, 'normalized': 0.24}, {'date': '2022-05-01', 'count': 16, 'normalized': 0.1033}, {'date': '2022-04-30', 'count': 4, 'normalized': -0.0425}, {'date': '2022-04-29', 'count': 42, 'normalized': 0.1024}, {'date': '2022-04-28', 'count': 31, 'normalized': 0.2557}, {'date': '2022-04-27', 'count': 45, 'normalized': 0.156}, {'date': '2022-04-26', 'count': 45, 'normalized': 0.249}, {'date': '2022-04-25', 'count': 41, 'normalized': 0.1675}, {'date': '2022-04-24', 'count': 11, 'normalized': 0.2198}, {'date': '2022-04-23', 'count': 10, 'normalized': 0.1183}, {'date': '2022-04-22', 'count': 31, 'normalized': 0.1835}, {'date': '2022-04-21', 'count': 41, 'normalized': 0.2555}, {'date': '2022-04-20', 'count': 34, 'normalized': 0.2068}, {'date': '2022-04-19', 'count': 35, 'normalized': 0.4781}, {'date': '2022-04-18', 'count': 29, 'normalized': 0.1618}, {'date': '2022-04-17', 'count': 12, 'normalized': 0.0056}, {'date': '2022-04-16', 'count': 4, 'normalized': 0.1498}, {'date': '2022-04-15', 'count': 21, 'normalized': 0.2142}, {'date': '2022-04-14', 'count': 28, 'normalized': 0.1013}, {'date': '2022-04-13', 'count': 33, 'normalized': 0.1623}, {'date': '2022-04-12', 'count': 53, 'normalized': 0.2608}, {'date': '2022-04-11', 'count': 46, 'normalized': 0.0238}, {'date': '2022-04-10', 'count': 13, 'normalized': 0.0118}, {'date': '2022-04-09', 'count': 16, 'normalized': 0.0999}, {'date': '2022-04-08', 'count': 44, 'normalized': 0.1676}, {'date': '2022-04-07', 'count': 53, 'normalized': 0.2901}, {'date': '2022-04-06', 'count': 46, 'normalized': 0.1182}, {'date': '2022-04-05', 'count': 46, 'normalized': 0.2811}, {'date': '2022-04-04', 'count': 38, 'normalized': 0.2087}, {'date': '2022-04-03', 'count': 8, 'normalized': -0.1265}, {'date': '2022-04-02', 'count': 10, 'normalized': 0.3688}, {'date': '2022-04-01', 'count': 29, 'normalized': 0.3169}, {'date': '2022-03-31', 'count': 33, 'normalized': 0.2707}, {'date': '2022-03-30', 'count': 33, 'normalized': 0.1702}, {'date': '2022-03-29', 'count': 44, 'normalized': 0.29}, {'date': '2022-03-28', 'count': 41, 'normalized': 0.3125}, {'date': '2022-03-27', 'count': 11, 'normalized': 0.2642}, {'date': '2022-03-26', 'count': 9, 'normalized': -0.0147}, {'date': '2022-03-25', 'count': 41, 'normalized': 0.1721}, {'date': '2022-03-24', 'count': 32, 'normalized': 0.2358}, {'date': '2022-03-23', 'count': 33, 'normalized': 0.2863}, {'date': '2022-03-22', 'count': 33, 'normalized': 0.1822}, {'date': '2022-03-21', 'count': 25, 'normalized': 0.3038}, {'date': '2022-03-20', 'count': 7, 'normalized': 0.4236}, {'date': '2022-03-19', 'count': 6, 'normalized': 0.1745}, {'date': '2022-03-18', 'count': 43, 'normalized': 0.2269}, {'date': '2022-03-17', 'count': 25, 'normalized': 0.2048}, {'date': '2022-03-16', 'count': 31, 'normalized': 0.1201}, {'date': '2022-03-15', 'count': 39, 'normalized': 0.0908}, {'date': '2022-03-14', 'count': 46, 'normalized': 0.0242}, {'date': '2022-03-13', 'count': 16, 'normalized': 0.1301}, {'date': '2022-03-12', 'count': 11, 'normalized': 0.1289}, {'date': '2022-03-11', 'count': 34, 'normalized': 0.3633}, {'date': '2022-03-10', 'count': 44, 'normalized': 0.2556}, {'date': '2022-03-09', 'count': 40, 'normalized': 0.1426}, {'date': '2022-03-08', 'count': 32, 'normalized': 0.163}, {'date': '2022-03-07', 'count': 39, 'normalized': 0.0763}, {'date': '2022-03-06', 'count': 13, 'normalized': 0.076}, {'date': '2022-03-05', 'count': 6, 'normalized': 0.1608}, {'date': '2022-03-04', 'count': 14, 'normalized': -0.1786}, {'date': '2022-03-03', 'count': 20, 'normalized': 0.1307}, {'date': '2022-03-02', 'count': 14, 'normalized': 0.3279}, {'date': '2022-03-01', 'count': 15, 'normalized': -0.0016}, {'date': '2022-02-28', 'count': 11, 'normalized': 0.0552}, {'date': '2022-02-26', 'count': 3, 'normalized': 0.415}, {'date': '2022-02-25', 'count': 14, 'normalized': -0.0017}, {'date': '2022-02-24', 'count': 27, 'normalized': 0.0529}, {'date': '2022-02-23', 'count': 14, 'normalized': 0.1911}, {'date': '2022-02-22', 'count': 8, 'normalized': -0.1811}, {'date': '2022-02-21', 'count': 5, 'normalized': 0.2824}, {'date': '2022-02-20', 'count': 1, 'normalized': -0.459}, {'date': '2022-02-18', 'count': 7, 'normalized': 0.1407}, {'date': '2022-02-17', 'count': 9, 'normalized': 0.0423}, {'date': '2022-02-16', 'count': 11, 'normalized': 0.1524}, {'date': '2022-02-15', 'count': 6, 'normalized': -0.0492}, {'date': '2022-02-14', 'count': 5, 'normalized': 0.1186}, {'date': '2022-02-13', 'count': 1, 'normalized': 0.238}, {'date': '2022-02-11', 'count': 4, 'normalized': 0.0193}, {'date': '2022-02-10', 'count': 6, 'normalized': 0.3383}, {'date': '2022-02-09', 'count': 9, 'normalized': 0.0578}, {'date': '2022-02-08', 'count': 14, 'normalized': 0.1826}, {'date': '2022-02-07', 'count': 12, 'normalized': 0.1866}, {'date': '2022-02-06', 'count': 1, 'normalized': 0}, {'date': '2022-02-04', 'count': 10, 'normalized': 0.3109}, {'date': '2022-02-03', 'count': 5, 'normalized': 0.0452}, {'date': '2022-02-02', 'count': 2, 'normalized': 0.4915}, {'date': '2022-02-01', 'count': 1, 'normalized': 0.361}, {'date': '2022-01-31', 'count': 19, 'normalized': 0.3526}, {'date': '2022-01-28', 'count': 3, 'normalized': 0.0587}, {'date': '2022-01-27', 'count': 1, 'normalized': 0}, {'date': '2022-01-26', 'count': 3, 'normalized': 0.062}, {'date': '2022-01-21', 'count': 3, 'normalized': 0.7473}, {'date': '2022-01-20', 'count': 13, 'normalized': 0.7359}, {'date': '2022-01-14', 'count': 1, 'normalized': -0.44}, {'date': '2022-01-12', 'count': 2, 'normalized': -0.3765}, {'date': '2022-01-07', 'count': 16, 'normalized': 0.4774}, {'date': '2022-01-06', 'count': 1, 'normalized': -0.494}, {'date': '2022-01-05', 'count': 1, 'normalized': 0.988}, {'date': '2022-01-04', 'count': 33, 'normalized': 0.3433}, {'date': '2022-01-03', 'count': 32, 'normalized': 0.6541}, {'date': '2022-01-02', 'count': 3, 'normalized': 0.8627}, {'date': '2022-01-01', 'count': 3, 'normalized': 0.856}, {'date': '2021-12-31', 'count': 34, 'normalized': 0.5741}, {'date': '2021-12-30', 'count': 35, 'normalized': 0.3249}, {'date': '2021-12-29', 'count': 31, 'normalized': 0.6132}, {'date': '2021-12-28', 'count': 27, 'normalized': 0.345}, {'date': '2021-12-27', 'count': 31, 'normalized': 0.5265}, {'date': '2021-12-26', 'count': 6, 'normalized': 0.0485}, {'date': '2021-12-25', 'count': 3, 'normalized': 0.9497}, {'date': '2021-12-24', 'count': 21, 'normalized': 0.6954}, {'date': '2021-12-23', 'count': 36, 'normalized': 0.6401}, {'date': '2021-12-22', 'count': 42, 'normalized': 0.6443}, {'date': '2021-12-21', 'count': 39, 'normalized': 0.6708}, {'date': '2021-12-20', 'count': 36, 'normalized': 0.6028}, {'date': '2021-12-19', 'count': 8, 'normalized': 0.6398}, {'date': '2021-12-18', 'count': 20, 'normalized': 0.2503}, {'date': '2021-12-17', 'count': 58, 'normalized': 0.4913}, {'date': '2021-12-16', 'count': 62, 'normalized': 0.434}, {'date': '2021-12-15', 'count': 62, 'normalized': 0.4566}, {'date': '2021-12-14', 'count': 65, 'normalized': 0.4644}, {'date': '2021-12-13', 'count': 51, 'normalized': 0.3358}, {'date': '2021-12-12', 'count': 16, 'normalized': 0.4361}, {'date': '2021-12-11', 'count': 27, 'normalized': 0.4261}, {'date': '2021-12-10', 'count': 71, 'normalized': 0.4796}, {'date': '2021-12-09', 'count': 85, 'normalized': 0.4512}, {'date': '2021-12-08', 'count': 70, 'normalized': 0.3503}, {'date': '2021-12-07', 'count': 63, 'normalized': 0.4619}, {'date': '2021-12-06', 'count': 59, 'normalized': 0.4988}, {'date': '2021-12-05', 'count': 14, 'normalized': 0.401}, {'date': '2021-12-04', 'count': 21, 'normalized': 0.2751}, {'date': '2021-12-03', 'count': 64, 'normalized': 0.577}, {'date': '2021-12-02', 'count': 62, 'normalized': 0.3183}, {'date': '2021-12-01', 'count': 63, 'normalized': 0.5493}, {'date': '2021-11-30', 'count': 69, 'normalized': 0.4016}, {'date': '2021-11-29', 'count': 63, 'normalized': 0.6281}, {'date': '2021-11-28', 'count': 19, 'normalized': 0.2911}, {'date': '2021-11-27', 'count': 5, 'normalized': 0.5198}, {'date': '2021-11-26', 'count': 52, 'normalized': 0.1616}, {'date': '2021-11-25', 'count': 57, 'normalized': 0.5046}, {'date': '2021-11-24', 'count': 62, 'normalized': 0.5915}, {'date': '2021-11-23', 'count': 68, 'normalized': 0.474}, {'date': '2021-11-22', 'count': 65, 'normalized': 0.5011}, {'date': '2021-11-21', 'count': 17, 'normalized': 0.3932}, {'date': '2021-11-20', 'count': 19, 'normalized': 0.5113}, {'date': '2021-11-19', 'count': 63, 'normalized': 0.2244}, {'date': '2021-11-18', 'count': 64, 'normalized': 0.4599}, {'date': '2021-11-17', 'count': 68, 'normalized': 0.4052}, {'date': '2021-11-16', 'count': 70, 'normalized': 0.5015}, {'date': '2021-11-15', 'count': 59, 'normalized': 0.568}, {'date': '2021-11-14', 'count': 18, 'normalized': 0.4349}, {'date': '2021-11-13', 'count': 19, 'normalized': 0.4871}, {'date': '2021-11-12', 'count': 70, 'normalized': 0.4046}, {'date': '2021-11-11', 'count': 70, 'normalized': 0.3185}, {'date': '2021-11-10', 'count': 67, 'normalized': 0.5456}, {'date': '2021-11-09', 'count': 49, 'normalized': 0.6336}, {'date': '2021-11-08', 'count': 47, 'normalized': 0.6057}, {'date': '2021-11-07', 'count': 14, 'normalized': 0.1641}, {'date': '2021-11-06', 'count': 10, 'normalized': 0.4454}, {'date': '2021-11-05', 'count': 57, 'normalized': 0.5617}, {'date': '2021-11-04', 'count': 63, 'normalized': 0.4894}, {'date': '2021-11-03', 'count': 59, 'normalized': 0.5087}, {'date': '2021-11-02', 'count': 50, 'normalized': 0.4653}, {'date': '2021-11-01', 'count': 58, 'normalized': 0.5738}, {'date': '2021-10-31', 'count': 14, 'normalized': 0.4819}, {'date': '2021-10-30', 'count': 8, 'normalized': 0.4085}, {'date': '2021-10-29', 'count': 42, 'normalized': 0.5966}, {'date': '2021-10-28', 'count': 39, 'normalized': 0.7057}, {'date': '2021-10-27', 'count': 45, 'normalized': 0.649}, {'date': '2021-10-26', 'count': 34, 'normalized': 0.8571}, {'date': '2021-10-25', 'count': 52, 'normalized': 0.6601}, {'date': '2021-10-24', 'count': 13, 'normalized': 0.5679}, {'date': '2021-10-23', 'count': 47, 'normalized': 0.2528}, {'date': '2021-10-22', 'count': 162, 'normalized': 0.2875}, {'date': '2021-10-21', 'count': 211, 'normalized': 0.2776}, {'date': '2021-10-20', 'count': 232, 'normalized': 0.3624}, {'date': '2021-10-19', 'count': 209, 'normalized': 0.3263}, {'date': '2021-10-18', 'count': 199, 'normalized': 0.3778}, {'date': '2021-10-17', 'count': 71, 'normalized': 0.3287}, {'date': '2021-10-16', 'count': 86, 'normalized': 0.3515}, {'date': '2021-10-15', 'count': 203, 'normalized': 0.3828}, {'date': '2021-10-14', 'count': 178, 'normalized': 0.2922}, {'date': '2021-10-13', 'count': 186, 'normalized': 0.2652}, {'date': '2021-10-12', 'count': 161, 'normalized': 0.3047}, {'date': '2021-10-11', 'count': 125, 'normalized': 0.4227}, {'date': '2021-10-10', 'count': 6, 'normalized': 0.4953}, {'date': '2021-10-09', 'count': 6, 'normalized': 0.7302}, {'date': '2021-10-08', 'count': 38, 'normalized': 0.6388}, {'date': '2021-10-07', 'count': 47, 'normalized': 0.7704}, {'date': '2021-10-06', 'count': 52, 'normalized': 0.3665}, {'date': '2021-10-05', 'count': 37, 'normalized': 0.4647}, {'date': '2021-10-04', 'count': 33, 'normalized': 0.3019}, {'date': '2021-10-03', 'count': 5, 'normalized': 0.4322}, {'date': '2021-10-02', 'count': 5, 'normalized': 0.5902}, {'date': '2021-10-01', 'count': 36, 'normalized': 0.5284}, {'date': '2021-09-30', 'count': 47, 'normalized': 0.4579}, {'date': '2021-09-29', 'count': 129, 'normalized': 0.2888}, {'date': '2021-09-28', 'count': 94, 'normalized': 0.0423}, {'date': '2021-09-27', 'count': 101, 'normalized': 0.1569}, {'date': '2021-09-26', 'count': 37, 'normalized': 0.0358}, {'date': '2021-09-25', 'count': 40, 'normalized': 0.0276}, {'date': '2021-09-24', 'count': 120, 'normalized': 0.0828}, {'date': '2021-09-23', 'count': 114, 'normalized': 0.1896}, {'date': '2021-09-22', 'count': 106, 'normalized': 0.0698}, {'date': '2021-09-21', 'count': 93, 'normalized': 0.0343}, {'date': '2021-09-20', 'count': 16, 'normalized': 0.3374}, {'date': '2021-09-19', 'count': 1, 'normalized': 0.975}, {'date': '2021-09-18', 'count': 1, 'normalized': -0.733}, {'date': '2021-09-17', 'count': 19, 'normalized': 0.0259}, {'date': '2021-07-27', 'count': 1, 'normalized': 0}, {'date': '2021-06-18', 'count': 1, 'normalized': -0.25}, {'date': '2021-01-08', 'count': 1, 'normalized': 0.382}, {'date': '2021-01-04', 'count': 1, 'normalized': 0.527}, {'date': '2021-01-02', 'count': 1, 'normalized': 0}]}\n"
     ]
    }
   ],
   "source": [
    "import urllib.request, json \n",
    "with urllib.request.urlopen(\"https://eodhistoricaldata.com/api/sentiments?s=btc-usd.cc,eth-usd.cc,ada-usd.cc,bnb-usd.cc&from=2021-01-01&to=2022-09-01&api_token=\") as url:\n",
    "    data = json.load(url)\n",
    "    print(data)"
   ]
  },
  {
   "cell_type": "code",
   "execution_count": 4,
   "id": "fe44d85e",
   "metadata": {},
   "outputs": [],
   "source": [
    "import pandas as pd\n",
    "import numpy as np\n",
    "from collections import Counter\n",
    "import seaborn as sns\n",
    "from pandas import json_normalize\n",
    "import json"
   ]
  },
  {
   "cell_type": "code",
   "execution_count": 17,
   "id": "797c1e05",
   "metadata": {},
   "outputs": [],
   "source": [
    "eth_df = json_normalize(data['ETH-USD.CC'])"
   ]
  },
  {
   "cell_type": "code",
   "execution_count": 18,
   "id": "9720be52",
   "metadata": {
    "scrolled": true
   },
   "outputs": [
    {
     "data": {
      "text/html": [
       "<div>\n",
       "<style scoped>\n",
       "    .dataframe tbody tr th:only-of-type {\n",
       "        vertical-align: middle;\n",
       "    }\n",
       "\n",
       "    .dataframe tbody tr th {\n",
       "        vertical-align: top;\n",
       "    }\n",
       "\n",
       "    .dataframe thead th {\n",
       "        text-align: right;\n",
       "    }\n",
       "</style>\n",
       "<table border=\"1\" class=\"dataframe\">\n",
       "  <thead>\n",
       "    <tr style=\"text-align: right;\">\n",
       "      <th></th>\n",
       "      <th>date</th>\n",
       "      <th>count</th>\n",
       "      <th>normalized</th>\n",
       "    </tr>\n",
       "  </thead>\n",
       "  <tbody>\n",
       "    <tr>\n",
       "      <th>0</th>\n",
       "      <td>2022-09-01</td>\n",
       "      <td>27</td>\n",
       "      <td>0.1255</td>\n",
       "    </tr>\n",
       "    <tr>\n",
       "      <th>1</th>\n",
       "      <td>2022-08-31</td>\n",
       "      <td>9</td>\n",
       "      <td>-0.0802</td>\n",
       "    </tr>\n",
       "    <tr>\n",
       "      <th>2</th>\n",
       "      <td>2022-08-30</td>\n",
       "      <td>29</td>\n",
       "      <td>0.1659</td>\n",
       "    </tr>\n",
       "    <tr>\n",
       "      <th>3</th>\n",
       "      <td>2022-08-29</td>\n",
       "      <td>24</td>\n",
       "      <td>0.1153</td>\n",
       "    </tr>\n",
       "    <tr>\n",
       "      <th>4</th>\n",
       "      <td>2022-08-28</td>\n",
       "      <td>5</td>\n",
       "      <td>0.0642</td>\n",
       "    </tr>\n",
       "    <tr>\n",
       "      <th>...</th>\n",
       "      <td>...</td>\n",
       "      <td>...</td>\n",
       "      <td>...</td>\n",
       "    </tr>\n",
       "    <tr>\n",
       "      <th>351</th>\n",
       "      <td>2021-02-18</td>\n",
       "      <td>1</td>\n",
       "      <td>0.7180</td>\n",
       "    </tr>\n",
       "    <tr>\n",
       "      <th>352</th>\n",
       "      <td>2021-02-10</td>\n",
       "      <td>1</td>\n",
       "      <td>0.4220</td>\n",
       "    </tr>\n",
       "    <tr>\n",
       "      <th>353</th>\n",
       "      <td>2021-02-06</td>\n",
       "      <td>1</td>\n",
       "      <td>0.6810</td>\n",
       "    </tr>\n",
       "    <tr>\n",
       "      <th>354</th>\n",
       "      <td>2021-01-25</td>\n",
       "      <td>1</td>\n",
       "      <td>0.5110</td>\n",
       "    </tr>\n",
       "    <tr>\n",
       "      <th>355</th>\n",
       "      <td>2021-01-04</td>\n",
       "      <td>1</td>\n",
       "      <td>0.5270</td>\n",
       "    </tr>\n",
       "  </tbody>\n",
       "</table>\n",
       "<p>356 rows × 3 columns</p>\n",
       "</div>"
      ],
      "text/plain": [
       "           date  count  normalized\n",
       "0    2022-09-01     27      0.1255\n",
       "1    2022-08-31      9     -0.0802\n",
       "2    2022-08-30     29      0.1659\n",
       "3    2022-08-29     24      0.1153\n",
       "4    2022-08-28      5      0.0642\n",
       "..          ...    ...         ...\n",
       "351  2021-02-18      1      0.7180\n",
       "352  2021-02-10      1      0.4220\n",
       "353  2021-02-06      1      0.6810\n",
       "354  2021-01-25      1      0.5110\n",
       "355  2021-01-04      1      0.5270\n",
       "\n",
       "[356 rows x 3 columns]"
      ]
     },
     "execution_count": 18,
     "metadata": {},
     "output_type": "execute_result"
    }
   ],
   "source": [
    "eth_df"
   ]
  },
  {
   "cell_type": "code",
   "execution_count": 15,
   "id": "fa078df9",
   "metadata": {},
   "outputs": [],
   "source": [
    "btc_df = json_normalize(data['BTC-USD.CC'])"
   ]
  },
  {
   "cell_type": "code",
   "execution_count": 16,
   "id": "c8cbf42b",
   "metadata": {
    "scrolled": true
   },
   "outputs": [
    {
     "data": {
      "text/html": [
       "<div>\n",
       "<style scoped>\n",
       "    .dataframe tbody tr th:only-of-type {\n",
       "        vertical-align: middle;\n",
       "    }\n",
       "\n",
       "    .dataframe tbody tr th {\n",
       "        vertical-align: top;\n",
       "    }\n",
       "\n",
       "    .dataframe thead th {\n",
       "        text-align: right;\n",
       "    }\n",
       "</style>\n",
       "<table border=\"1\" class=\"dataframe\">\n",
       "  <thead>\n",
       "    <tr style=\"text-align: right;\">\n",
       "      <th></th>\n",
       "      <th>date</th>\n",
       "      <th>count</th>\n",
       "      <th>normalized</th>\n",
       "    </tr>\n",
       "  </thead>\n",
       "  <tbody>\n",
       "    <tr>\n",
       "      <th>0</th>\n",
       "      <td>2022-09-01</td>\n",
       "      <td>25</td>\n",
       "      <td>0.1886</td>\n",
       "    </tr>\n",
       "    <tr>\n",
       "      <th>1</th>\n",
       "      <td>2022-08-31</td>\n",
       "      <td>23</td>\n",
       "      <td>0.0317</td>\n",
       "    </tr>\n",
       "    <tr>\n",
       "      <th>2</th>\n",
       "      <td>2022-08-30</td>\n",
       "      <td>27</td>\n",
       "      <td>0.1208</td>\n",
       "    </tr>\n",
       "    <tr>\n",
       "      <th>3</th>\n",
       "      <td>2022-08-29</td>\n",
       "      <td>36</td>\n",
       "      <td>0.1060</td>\n",
       "    </tr>\n",
       "    <tr>\n",
       "      <th>4</th>\n",
       "      <td>2022-08-28</td>\n",
       "      <td>13</td>\n",
       "      <td>-0.0475</td>\n",
       "    </tr>\n",
       "    <tr>\n",
       "      <th>...</th>\n",
       "      <td>...</td>\n",
       "      <td>...</td>\n",
       "      <td>...</td>\n",
       "    </tr>\n",
       "    <tr>\n",
       "      <th>327</th>\n",
       "      <td>2021-07-27</td>\n",
       "      <td>1</td>\n",
       "      <td>0.0000</td>\n",
       "    </tr>\n",
       "    <tr>\n",
       "      <th>328</th>\n",
       "      <td>2021-06-18</td>\n",
       "      <td>1</td>\n",
       "      <td>-0.2500</td>\n",
       "    </tr>\n",
       "    <tr>\n",
       "      <th>329</th>\n",
       "      <td>2021-01-08</td>\n",
       "      <td>1</td>\n",
       "      <td>0.3820</td>\n",
       "    </tr>\n",
       "    <tr>\n",
       "      <th>330</th>\n",
       "      <td>2021-01-04</td>\n",
       "      <td>1</td>\n",
       "      <td>0.5270</td>\n",
       "    </tr>\n",
       "    <tr>\n",
       "      <th>331</th>\n",
       "      <td>2021-01-02</td>\n",
       "      <td>1</td>\n",
       "      <td>0.0000</td>\n",
       "    </tr>\n",
       "  </tbody>\n",
       "</table>\n",
       "<p>332 rows × 3 columns</p>\n",
       "</div>"
      ],
      "text/plain": [
       "           date  count  normalized\n",
       "0    2022-09-01     25      0.1886\n",
       "1    2022-08-31     23      0.0317\n",
       "2    2022-08-30     27      0.1208\n",
       "3    2022-08-29     36      0.1060\n",
       "4    2022-08-28     13     -0.0475\n",
       "..          ...    ...         ...\n",
       "327  2021-07-27      1      0.0000\n",
       "328  2021-06-18      1     -0.2500\n",
       "329  2021-01-08      1      0.3820\n",
       "330  2021-01-04      1      0.5270\n",
       "331  2021-01-02      1      0.0000\n",
       "\n",
       "[332 rows x 3 columns]"
      ]
     },
     "execution_count": 16,
     "metadata": {},
     "output_type": "execute_result"
    }
   ],
   "source": [
    "btc_df"
   ]
  },
  {
   "cell_type": "code",
   "execution_count": 11,
   "id": "3fcd9804",
   "metadata": {},
   "outputs": [],
   "source": [
    "bnb_df = json_normalize(data['BNB-USD.CC'])"
   ]
  },
  {
   "cell_type": "code",
   "execution_count": 12,
   "id": "0a8e7ce1",
   "metadata": {
    "scrolled": true
   },
   "outputs": [
    {
     "data": {
      "text/html": [
       "<div>\n",
       "<style scoped>\n",
       "    .dataframe tbody tr th:only-of-type {\n",
       "        vertical-align: middle;\n",
       "    }\n",
       "\n",
       "    .dataframe tbody tr th {\n",
       "        vertical-align: top;\n",
       "    }\n",
       "\n",
       "    .dataframe thead th {\n",
       "        text-align: right;\n",
       "    }\n",
       "</style>\n",
       "<table border=\"1\" class=\"dataframe\">\n",
       "  <thead>\n",
       "    <tr style=\"text-align: right;\">\n",
       "      <th></th>\n",
       "      <th>date</th>\n",
       "      <th>count</th>\n",
       "      <th>normalized</th>\n",
       "    </tr>\n",
       "  </thead>\n",
       "  <tbody>\n",
       "    <tr>\n",
       "      <th>0</th>\n",
       "      <td>2022-09-01</td>\n",
       "      <td>1</td>\n",
       "      <td>0.0000</td>\n",
       "    </tr>\n",
       "    <tr>\n",
       "      <th>1</th>\n",
       "      <td>2022-08-29</td>\n",
       "      <td>5</td>\n",
       "      <td>0.3446</td>\n",
       "    </tr>\n",
       "    <tr>\n",
       "      <th>2</th>\n",
       "      <td>2022-08-25</td>\n",
       "      <td>3</td>\n",
       "      <td>0.4703</td>\n",
       "    </tr>\n",
       "    <tr>\n",
       "      <th>3</th>\n",
       "      <td>2022-08-22</td>\n",
       "      <td>5</td>\n",
       "      <td>0.2660</td>\n",
       "    </tr>\n",
       "    <tr>\n",
       "      <th>4</th>\n",
       "      <td>2022-08-21</td>\n",
       "      <td>2</td>\n",
       "      <td>0.2635</td>\n",
       "    </tr>\n",
       "    <tr>\n",
       "      <th>...</th>\n",
       "      <td>...</td>\n",
       "      <td>...</td>\n",
       "      <td>...</td>\n",
       "    </tr>\n",
       "    <tr>\n",
       "      <th>260</th>\n",
       "      <td>2021-04-12</td>\n",
       "      <td>2</td>\n",
       "      <td>0.0000</td>\n",
       "    </tr>\n",
       "    <tr>\n",
       "      <th>261</th>\n",
       "      <td>2021-03-18</td>\n",
       "      <td>1</td>\n",
       "      <td>0.0000</td>\n",
       "    </tr>\n",
       "    <tr>\n",
       "      <th>262</th>\n",
       "      <td>2021-02-22</td>\n",
       "      <td>1</td>\n",
       "      <td>0.3400</td>\n",
       "    </tr>\n",
       "    <tr>\n",
       "      <th>263</th>\n",
       "      <td>2021-02-19</td>\n",
       "      <td>1</td>\n",
       "      <td>0.0000</td>\n",
       "    </tr>\n",
       "    <tr>\n",
       "      <th>264</th>\n",
       "      <td>2021-01-04</td>\n",
       "      <td>1</td>\n",
       "      <td>0.5270</td>\n",
       "    </tr>\n",
       "  </tbody>\n",
       "</table>\n",
       "<p>265 rows × 3 columns</p>\n",
       "</div>"
      ],
      "text/plain": [
       "           date  count  normalized\n",
       "0    2022-09-01      1      0.0000\n",
       "1    2022-08-29      5      0.3446\n",
       "2    2022-08-25      3      0.4703\n",
       "3    2022-08-22      5      0.2660\n",
       "4    2022-08-21      2      0.2635\n",
       "..          ...    ...         ...\n",
       "260  2021-04-12      2      0.0000\n",
       "261  2021-03-18      1      0.0000\n",
       "262  2021-02-22      1      0.3400\n",
       "263  2021-02-19      1      0.0000\n",
       "264  2021-01-04      1      0.5270\n",
       "\n",
       "[265 rows x 3 columns]"
      ]
     },
     "execution_count": 12,
     "metadata": {},
     "output_type": "execute_result"
    }
   ],
   "source": [
    "bnb_df"
   ]
  },
  {
   "cell_type": "code",
   "execution_count": 19,
   "id": "ce8cee04",
   "metadata": {},
   "outputs": [],
   "source": [
    "ada_df = json_normalize(data['ADA-USD.CC'])"
   ]
  },
  {
   "cell_type": "code",
   "execution_count": 20,
   "id": "bb3fb614",
   "metadata": {
    "scrolled": true
   },
   "outputs": [
    {
     "data": {
      "text/html": [
       "<div>\n",
       "<style scoped>\n",
       "    .dataframe tbody tr th:only-of-type {\n",
       "        vertical-align: middle;\n",
       "    }\n",
       "\n",
       "    .dataframe tbody tr th {\n",
       "        vertical-align: top;\n",
       "    }\n",
       "\n",
       "    .dataframe thead th {\n",
       "        text-align: right;\n",
       "    }\n",
       "</style>\n",
       "<table border=\"1\" class=\"dataframe\">\n",
       "  <thead>\n",
       "    <tr style=\"text-align: right;\">\n",
       "      <th></th>\n",
       "      <th>date</th>\n",
       "      <th>count</th>\n",
       "      <th>normalized</th>\n",
       "    </tr>\n",
       "  </thead>\n",
       "  <tbody>\n",
       "    <tr>\n",
       "      <th>0</th>\n",
       "      <td>2022-09-01</td>\n",
       "      <td>2</td>\n",
       "      <td>0.5305</td>\n",
       "    </tr>\n",
       "    <tr>\n",
       "      <th>1</th>\n",
       "      <td>2022-08-31</td>\n",
       "      <td>2</td>\n",
       "      <td>0.4245</td>\n",
       "    </tr>\n",
       "    <tr>\n",
       "      <th>2</th>\n",
       "      <td>2022-08-30</td>\n",
       "      <td>3</td>\n",
       "      <td>0.0833</td>\n",
       "    </tr>\n",
       "    <tr>\n",
       "      <th>3</th>\n",
       "      <td>2022-08-29</td>\n",
       "      <td>3</td>\n",
       "      <td>0.1850</td>\n",
       "    </tr>\n",
       "    <tr>\n",
       "      <th>4</th>\n",
       "      <td>2022-08-28</td>\n",
       "      <td>1</td>\n",
       "      <td>0.0000</td>\n",
       "    </tr>\n",
       "    <tr>\n",
       "      <th>...</th>\n",
       "      <td>...</td>\n",
       "      <td>...</td>\n",
       "      <td>...</td>\n",
       "    </tr>\n",
       "    <tr>\n",
       "      <th>293</th>\n",
       "      <td>2021-07-17</td>\n",
       "      <td>1</td>\n",
       "      <td>-0.7000</td>\n",
       "    </tr>\n",
       "    <tr>\n",
       "      <th>294</th>\n",
       "      <td>2021-07-06</td>\n",
       "      <td>1</td>\n",
       "      <td>0.6600</td>\n",
       "    </tr>\n",
       "    <tr>\n",
       "      <th>295</th>\n",
       "      <td>2021-07-02</td>\n",
       "      <td>1</td>\n",
       "      <td>0.4400</td>\n",
       "    </tr>\n",
       "    <tr>\n",
       "      <th>296</th>\n",
       "      <td>2021-07-01</td>\n",
       "      <td>1</td>\n",
       "      <td>-0.2730</td>\n",
       "    </tr>\n",
       "    <tr>\n",
       "      <th>297</th>\n",
       "      <td>2021-01-04</td>\n",
       "      <td>1</td>\n",
       "      <td>0.5270</td>\n",
       "    </tr>\n",
       "  </tbody>\n",
       "</table>\n",
       "<p>298 rows × 3 columns</p>\n",
       "</div>"
      ],
      "text/plain": [
       "           date  count  normalized\n",
       "0    2022-09-01      2      0.5305\n",
       "1    2022-08-31      2      0.4245\n",
       "2    2022-08-30      3      0.0833\n",
       "3    2022-08-29      3      0.1850\n",
       "4    2022-08-28      1      0.0000\n",
       "..          ...    ...         ...\n",
       "293  2021-07-17      1     -0.7000\n",
       "294  2021-07-06      1      0.6600\n",
       "295  2021-07-02      1      0.4400\n",
       "296  2021-07-01      1     -0.2730\n",
       "297  2021-01-04      1      0.5270\n",
       "\n",
       "[298 rows x 3 columns]"
      ]
     },
     "execution_count": 20,
     "metadata": {},
     "output_type": "execute_result"
    }
   ],
   "source": [
    "ada_df"
   ]
  },
  {
   "cell_type": "code",
   "execution_count": 21,
   "id": "d62f23f8",
   "metadata": {},
   "outputs": [],
   "source": [
    "crypto_sentiments = [btc_df, eth_df, ada_df, bnb_df]"
   ]
  },
  {
   "cell_type": "code",
   "execution_count": 22,
   "id": "a1f8e4b0",
   "metadata": {},
   "outputs": [
    {
     "data": {
      "text/plain": [
       "5"
      ]
     },
     "execution_count": 22,
     "metadata": {},
     "output_type": "execute_result"
    }
   ],
   "source": [
    "len(crypto_sentiments)"
   ]
  },
  {
   "cell_type": "code",
   "execution_count": 23,
   "id": "b829f9a1",
   "metadata": {},
   "outputs": [],
   "source": [
    "btc_df, eth_df, ada_df, bnb_df = btc_df[::-1], eth_df[::-1], ada_df[::-1], bnb_df[::-1]"
   ]
  },
  {
   "cell_type": "code",
   "execution_count": 24,
   "id": "36ada76f",
   "metadata": {
    "scrolled": true
   },
   "outputs": [
    {
     "data": {
      "text/plain": [
       "(           date  count  normalized\n",
       " 331  2021-01-02      1      0.0000\n",
       " 330  2021-01-04      1      0.5270\n",
       " 329  2021-01-08      1      0.3820\n",
       " 328  2021-06-18      1     -0.2500\n",
       " 327  2021-07-27      1      0.0000\n",
       " ..          ...    ...         ...\n",
       " 4    2022-08-28     13     -0.0475\n",
       " 3    2022-08-29     36      0.1060\n",
       " 2    2022-08-30     27      0.1208\n",
       " 1    2022-08-31     23      0.0317\n",
       " 0    2022-09-01     25      0.1886\n",
       " \n",
       " [332 rows x 3 columns],\n",
       "            date  count  normalized\n",
       " 355  2021-01-04      1      0.5270\n",
       " 354  2021-01-25      1      0.5110\n",
       " 353  2021-02-06      1      0.6810\n",
       " 352  2021-02-10      1      0.4220\n",
       " 351  2021-02-18      1      0.7180\n",
       " ..          ...    ...         ...\n",
       " 4    2022-08-28      5      0.0642\n",
       " 3    2022-08-29     24      0.1153\n",
       " 2    2022-08-30     29      0.1659\n",
       " 1    2022-08-31      9     -0.0802\n",
       " 0    2022-09-01     27      0.1255\n",
       " \n",
       " [356 rows x 3 columns],\n",
       "            date  count  normalized\n",
       " 297  2021-01-04      1      0.5270\n",
       " 296  2021-07-01      1     -0.2730\n",
       " 295  2021-07-02      1      0.4400\n",
       " 294  2021-07-06      1      0.6600\n",
       " 293  2021-07-17      1     -0.7000\n",
       " ..          ...    ...         ...\n",
       " 4    2022-08-28      1      0.0000\n",
       " 3    2022-08-29      3      0.1850\n",
       " 2    2022-08-30      3      0.0833\n",
       " 1    2022-08-31      2      0.4245\n",
       " 0    2022-09-01      2      0.5305\n",
       " \n",
       " [298 rows x 3 columns],\n",
       "            date  count  normalized\n",
       " 264  2021-01-04      1      0.5270\n",
       " 263  2021-02-19      1      0.0000\n",
       " 262  2021-02-22      1      0.3400\n",
       " 261  2021-03-18      1      0.0000\n",
       " 260  2021-04-12      2      0.0000\n",
       " ..          ...    ...         ...\n",
       " 4    2022-08-21      2      0.2635\n",
       " 3    2022-08-22      5      0.2660\n",
       " 2    2022-08-25      3      0.4703\n",
       " 1    2022-08-29      5      0.3446\n",
       " 0    2022-09-01      1      0.0000\n",
       " \n",
       " [265 rows x 3 columns])"
      ]
     },
     "execution_count": 24,
     "metadata": {},
     "output_type": "execute_result"
    }
   ],
   "source": [
    "btc_df, eth_df, ada_df, bnb_df"
   ]
  },
  {
   "cell_type": "code",
   "execution_count": 28,
   "id": "7b48994d",
   "metadata": {},
   "outputs": [],
   "source": [
    "btc_df.to_csv('btc_df.csv')\n",
    "eth_df.to_csv('eth_df.csv')\n",
    "ada_df.to_csv('ada_df.csv')\n",
    "bnb_df.to_csv('bnb_df.csv')"
   ]
  },
  {
   "cell_type": "code",
   "execution_count": 29,
   "id": "e3bd4cf1",
   "metadata": {},
   "outputs": [
    {
     "name": "stdout",
     "output_type": "stream",
     "text": [
      "2022-09-01 2021-01-02 (332,)\n",
      "2022-09-01 2021-01-04 (356,)\n",
      "2022-09-01 2021-01-04 (298,)\n",
      "2022-09-01 2021-01-04 (265,)\n",
      "2022-08-17 2021-09-29 (155,)\n"
     ]
    }
   ],
   "source": [
    "for df in crypto_sentiments:\n",
    "    print(df.date.iloc[0], df.date.iloc[-1], df.date.shape)"
   ]
  },
  {
   "cell_type": "code",
   "execution_count": null,
   "id": "cbe80c1b",
   "metadata": {},
   "outputs": [],
   "source": []
  }
 ],
 "metadata": {
  "kernelspec": {
   "display_name": "Python 3 (ipykernel)",
   "language": "python",
   "name": "python3"
  },
  "language_info": {
   "codemirror_mode": {
    "name": "ipython",
    "version": 3
   },
   "file_extension": ".py",
   "mimetype": "text/x-python",
   "name": "python",
   "nbconvert_exporter": "python",
   "pygments_lexer": "ipython3",
   "version": "3.9.12"
  }
 },
 "nbformat": 4,
 "nbformat_minor": 5
}
